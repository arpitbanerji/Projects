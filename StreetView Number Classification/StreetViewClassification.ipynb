{
 "cells": [
  {
   "cell_type": "code",
   "execution_count": 0,
   "metadata": {
    "colab": {},
    "colab_type": "code",
    "id": "6ldXbjLMK-GA"
   },
   "outputs": [],
   "source": [
    "import pandas as pd\n",
    "import matplotlib.pyplot as plt"
   ]
  },
  {
   "cell_type": "code",
   "execution_count": 43,
   "metadata": {
    "colab": {
     "base_uri": "https://localhost:8080/",
     "height": 54
    },
    "colab_type": "code",
    "id": "fGtWgzbRML3X",
    "outputId": "f665a0d7-72f5-4c4b-afcb-2bf88c91cad9"
   },
   "outputs": [
    {
     "name": "stdout",
     "output_type": "stream",
     "text": [
      "Drive already mounted at /content/drive; to attempt to forcibly remount, call drive.mount(\"/content/drive\", force_remount=True).\n"
     ]
    }
   ],
   "source": [
    "from google.colab import drive\n",
    "drive.mount('/content/drive')"
   ]
  },
  {
   "cell_type": "code",
   "execution_count": 0,
   "metadata": {
    "colab": {},
    "colab_type": "code",
    "id": "qCqisC08LDrB"
   },
   "outputs": [],
   "source": [
    "#pd.read_hdf(\"/content/drive/My Drive/ANN project2/SVHN_single_grey1.h5\")\n",
    "import h5py\n",
    "\n",
    "f = h5py.File(\"/content/drive/My Drive/ANN project2/SVHN_single_grey1.h5\")"
   ]
  },
  {
   "cell_type": "code",
   "execution_count": 45,
   "metadata": {
    "colab": {
     "base_uri": "https://localhost:8080/",
     "height": 119
    },
    "colab_type": "code",
    "id": "b5G691pnMqoO",
    "outputId": "4073d60e-adff-4756-96e2-0dc5f9c7869e"
   },
   "outputs": [
    {
     "name": "stdout",
     "output_type": "stream",
     "text": [
      "X_test\n",
      "X_train\n",
      "X_val\n",
      "y_test\n",
      "y_train\n",
      "y_val\n"
     ]
    }
   ],
   "source": [
    "for i in f.keys():\n",
    "  print(i)\n",
    "    "
   ]
  },
  {
   "cell_type": "code",
   "execution_count": 0,
   "metadata": {
    "colab": {},
    "colab_type": "code",
    "id": "nri2CbqPNE77"
   },
   "outputs": [],
   "source": [
    "X_test=f[\"X_test\"].value"
   ]
  },
  {
   "cell_type": "code",
   "execution_count": 0,
   "metadata": {
    "colab": {},
    "colab_type": "code",
    "id": "nDxYCAfoNi1-"
   },
   "outputs": [],
   "source": [
    "X_train=f[\"X_train\"].value\n",
    "X_val=f[\"X_val\"].value\n",
    "y_test=f[\"y_test\"].value\n",
    "y_train=f[\"y_train\"].value\n",
    "y_val=f[\"y_val\"].value"
   ]
  },
  {
   "cell_type": "code",
   "execution_count": 48,
   "metadata": {
    "colab": {
     "base_uri": "https://localhost:8080/",
     "height": 34
    },
    "colab_type": "code",
    "id": "aJ6cY_c9OoeK",
    "outputId": "1564f397-5081-4e95-f0a0-f665744d3011"
   },
   "outputs": [
    {
     "data": {
      "text/plain": [
       "(42000, 32, 32)"
      ]
     },
     "execution_count": 48,
     "metadata": {
      "tags": []
     },
     "output_type": "execute_result"
    }
   ],
   "source": [
    "X_train.shape"
   ]
  },
  {
   "cell_type": "code",
   "execution_count": 49,
   "metadata": {
    "colab": {
     "base_uri": "https://localhost:8080/",
     "height": 34
    },
    "colab_type": "code",
    "id": "8mDSeU2UWVAi",
    "outputId": "d08050f5-2138-4118-db49-124afe7d29b4"
   },
   "outputs": [
    {
     "data": {
      "text/plain": [
       "(18000, 32, 32)"
      ]
     },
     "execution_count": 49,
     "metadata": {
      "tags": []
     },
     "output_type": "execute_result"
    }
   ],
   "source": [
    "X_test.shape"
   ]
  },
  {
   "cell_type": "code",
   "execution_count": 50,
   "metadata": {
    "colab": {
     "base_uri": "https://localhost:8080/",
     "height": 34
    },
    "colab_type": "code",
    "id": "PP36ZFi3WYxT",
    "outputId": "50ca8837-1847-4712-b1ea-7792f2c59864"
   },
   "outputs": [
    {
     "data": {
      "text/plain": [
       "(60000, 32, 32)"
      ]
     },
     "execution_count": 50,
     "metadata": {
      "tags": []
     },
     "output_type": "execute_result"
    }
   ],
   "source": [
    "X_val.shape"
   ]
  },
  {
   "cell_type": "code",
   "execution_count": 51,
   "metadata": {
    "colab": {
     "base_uri": "https://localhost:8080/",
     "height": 34
    },
    "colab_type": "code",
    "id": "dC3TH6K0Wogj",
    "outputId": "00fe7323-9852-4afb-acf9-a52215891a7e"
   },
   "outputs": [
    {
     "data": {
      "text/plain": [
       "(60000,)"
      ]
     },
     "execution_count": 51,
     "metadata": {
      "tags": []
     },
     "output_type": "execute_result"
    }
   ],
   "source": [
    "y_val.shape"
   ]
  },
  {
   "cell_type": "code",
   "execution_count": 11,
   "metadata": {
    "colab": {
     "base_uri": "https://localhost:8080/",
     "height": 34
    },
    "colab_type": "code",
    "id": "40r-zZfpQV9u",
    "outputId": "55709a62-4de0-4935-8499-edca8ab8dbe1"
   },
   "outputs": [
    {
     "data": {
      "text/plain": [
       "(42000,)"
      ]
     },
     "execution_count": 11,
     "metadata": {
      "tags": []
     },
     "output_type": "execute_result"
    }
   ],
   "source": [
    "y_train.shape"
   ]
  },
  {
   "cell_type": "code",
   "execution_count": 0,
   "metadata": {
    "colab": {},
    "colab_type": "code",
    "id": "IHH-RE2bW_ue"
   },
   "outputs": [],
   "source": []
  },
  {
   "cell_type": "code",
   "execution_count": 12,
   "metadata": {
    "colab": {
     "base_uri": "https://localhost:8080/",
     "height": 283
    },
    "colab_type": "code",
    "id": "DNi3GgiuU2fT",
    "outputId": "b9a63230-06f3-4226-f826-2ee99875debb"
   },
   "outputs": [
    {
     "data": {
      "text/plain": [
       "<function matplotlib.pyplot.show>"
      ]
     },
     "execution_count": 12,
     "metadata": {
      "tags": []
     },
     "output_type": "execute_result"
    },
    {
     "data": {
      "image/png": "[encoded data removed]",
      "text/plain": [
       "<Figure size 432x288 with 1 Axes>"
      ]
     },
     "metadata": {
      "tags": []
     },
     "output_type": "display_data"
    }
   ],
   "source": [
    "plt.imshow(X_val[5002])\n",
    "plt.show"
   ]
  },
  {
   "cell_type": "code",
   "execution_count": 13,
   "metadata": {
    "colab": {
     "base_uri": "https://localhost:8080/",
     "height": 34
    },
    "colab_type": "code",
    "id": "dCtKLGmaV0f9",
    "outputId": "07c9859b-6e51-4bb6-833b-67f14b4d45c0"
   },
   "outputs": [
    {
     "data": {
      "text/plain": [
       "1"
      ]
     },
     "execution_count": 13,
     "metadata": {
      "tags": []
     },
     "output_type": "execute_result"
    }
   ],
   "source": [
    "y_val[5002]"
   ]
  },
  {
   "cell_type": "code",
   "execution_count": 14,
   "metadata": {
    "colab": {
     "base_uri": "https://localhost:8080/",
     "height": 68
    },
    "colab_type": "code",
    "id": "J0k435_wQd-W",
    "outputId": "d6c8123b-a396-4883-8979-c659ffd53a47"
   },
   "outputs": [
    {
     "name": "stdout",
     "output_type": "stream",
     "text": [
      "\u001b[K     |████████████████████████████████| 86.3MB 53kB/s \n",
      "\u001b[K     |████████████████████████████████| 450kB 66.5MB/s \n",
      "\u001b[K     |████████████████████████████████| 3.8MB 61.6MB/s \n",
      "\u001b[?25h"
     ]
    }
   ],
   "source": [
    "!pip3 install -U tensorflow==2.0 --quiet"
   ]
  },
  {
   "cell_type": "code",
   "execution_count": 0,
   "metadata": {
    "colab": {},
    "colab_type": "code",
    "id": "rc-yFDApQlHV"
   },
   "outputs": [],
   "source": [
    "import tensorflow as tf"
   ]
  },
  {
   "cell_type": "code",
   "execution_count": 0,
   "metadata": {
    "colab": {},
    "colab_type": "code",
    "id": "jAqTaqjdTbzG"
   },
   "outputs": [],
   "source": [
    "y_train1= tf.keras.utils.to_categorical(y_train)\n",
    "y_test1= tf.keras.utils.to_categorical(y_test)"
   ]
  },
  {
   "cell_type": "code",
   "execution_count": 0,
   "metadata": {
    "colab": {},
    "colab_type": "code",
    "id": "2lM40LxtTfhs"
   },
   "outputs": [],
   "source": [
    "m=tf.keras.models.Sequential()"
   ]
  },
  {
   "cell_type": "code",
   "execution_count": 0,
   "metadata": {
    "colab": {},
    "colab_type": "code",
    "id": "-A2goTmrUCdy"
   },
   "outputs": [],
   "source": [
    "m.add(tf.keras.layers.Reshape((1024,), input_shape=(32,32,)))\n",
    "m.add(tf.keras.layers.BatchNormalization())"
   ]
  },
  {
   "cell_type": "code",
   "execution_count": 0,
   "metadata": {
    "colab": {},
    "colab_type": "code",
    "id": "yJUw_MajUXZ0"
   },
   "outputs": [],
   "source": [
    "m.add(tf.keras.layers.Dense(300, activation='relu'))\n",
    "m.add(tf.keras.layers.Dropout(0.3))\n",
    "m.add(tf.keras.layers.BatchNormalization())"
   ]
  },
  {
   "cell_type": "code",
   "execution_count": 0,
   "metadata": {
    "colab": {},
    "colab_type": "code",
    "id": "URvWyaBmYqV8"
   },
   "outputs": [],
   "source": [
    "m.add(tf.keras.layers.Dense(200, activation='relu'))\n",
    "m.add(tf.keras.layers.Dropout(0.3))\n",
    "m.add(tf.keras.layers.BatchNormalization())"
   ]
  },
  {
   "cell_type": "code",
   "execution_count": 0,
   "metadata": {
    "colab": {},
    "colab_type": "code",
    "id": "m8zKq9avZSKM"
   },
   "outputs": [],
   "source": [
    "m.add(tf.keras.layers.Dense(50, activation='relu'))\n",
    "m.add(tf.keras.layers.Dropout(0.3))\n",
    "m.add(tf.keras.layers.BatchNormalization())"
   ]
  },
  {
   "cell_type": "code",
   "execution_count": 0,
   "metadata": {
    "colab": {},
    "colab_type": "code",
    "id": "gclS0CxkYzUi"
   },
   "outputs": [],
   "source": [
    "m.add(tf.keras.layers.Dense(10, activation='softmax'))"
   ]
  },
  {
   "cell_type": "code",
   "execution_count": 0,
   "metadata": {
    "colab": {},
    "colab_type": "code",
    "id": "h7o-b-WkZkyf"
   },
   "outputs": [],
   "source": [
    "m.compile(optimizer='Adam', loss='categorical_crossentropy', metrics=['accuracy'])"
   ]
  },
  {
   "cell_type": "code",
   "execution_count": 24,
   "metadata": {
    "colab": {
     "base_uri": "https://localhost:8080/",
     "height": 1000
    },
    "colab_type": "code",
    "id": "u3aS4Lm-H3o3",
    "outputId": "adabb641-46ba-4556-a45e-25262736885a"
   },
   "outputs": [
    {
     "name": "stdout",
     "output_type": "stream",
     "text": [
      "Train on 42000 samples, validate on 18000 samples\n",
      "Epoch 1/100\n",
      "42000/42000 [==============================] - 13s 320us/sample - loss: 2.0605 - accuracy: 0.2771 - val_loss: 1.3141 - val_accuracy: 0.6102\n",
      "Epoch 2/100\n",
      "42000/42000 [==============================] - 11s 266us/sample - loss: 1.5166 - accuracy: 0.4985 - val_loss: 1.0763 - val_accuracy: 0.6790\n",
      "Epoch 3/100\n",
      "42000/42000 [==============================] - 11s 266us/sample - loss: 1.3410 - accuracy: 0.5710 - val_loss: 0.9655 - val_accuracy: 0.7123\n",
      "Epoch 4/100\n",
      "42000/42000 [==============================] - 11s 269us/sample - loss: 1.2431 - accuracy: 0.6052 - val_loss: 0.8877 - val_accuracy: 0.7434\n",
      "Epoch 5/100\n",
      "42000/42000 [==============================] - 11s 265us/sample - loss: 1.1838 - accuracy: 0.6271 - val_loss: 0.8422 - val_accuracy: 0.7589\n",
      "Epoch 6/100\n",
      "42000/42000 [==============================] - 12s 275us/sample - loss: 1.1345 - accuracy: 0.6417 - val_loss: 0.7985 - val_accuracy: 0.7704\n",
      "Epoch 7/100\n",
      "42000/42000 [==============================] - 11s 258us/sample - loss: 1.0889 - accuracy: 0.6571 - val_loss: 0.7590 - val_accuracy: 0.7837\n",
      "Epoch 8/100\n",
      "42000/42000 [==============================] - 11s 260us/sample - loss: 1.0662 - accuracy: 0.6651 - val_loss: 0.7308 - val_accuracy: 0.7858\n",
      "Epoch 9/100\n",
      "42000/42000 [==============================] - 11s 255us/sample - loss: 1.0313 - accuracy: 0.6809 - val_loss: 0.6925 - val_accuracy: 0.8027\n",
      "Epoch 10/100\n",
      "42000/42000 [==============================] - 11s 257us/sample - loss: 1.0184 - accuracy: 0.6819 - val_loss: 0.6962 - val_accuracy: 0.8037\n",
      "Epoch 11/100\n",
      "42000/42000 [==============================] - 11s 262us/sample - loss: 0.9939 - accuracy: 0.6914 - val_loss: 0.6948 - val_accuracy: 0.8023\n",
      "Epoch 12/100\n",
      "42000/42000 [==============================] - 11s 269us/sample - loss: 0.9715 - accuracy: 0.6974 - val_loss: 0.6579 - val_accuracy: 0.8133\n",
      "Epoch 13/100\n",
      "42000/42000 [==============================] - 11s 256us/sample - loss: 0.9610 - accuracy: 0.7030 - val_loss: 0.6566 - val_accuracy: 0.8161\n",
      "Epoch 14/100\n",
      "42000/42000 [==============================] - 11s 254us/sample - loss: 0.9488 - accuracy: 0.7051 - val_loss: 0.6505 - val_accuracy: 0.8190\n",
      "Epoch 15/100\n",
      "42000/42000 [==============================] - 11s 251us/sample - loss: 0.9372 - accuracy: 0.7089 - val_loss: 0.6320 - val_accuracy: 0.8237\n",
      "Epoch 16/100\n",
      "42000/42000 [==============================] - 11s 257us/sample - loss: 0.9290 - accuracy: 0.7121 - val_loss: 0.6222 - val_accuracy: 0.8249\n",
      "Epoch 17/100\n",
      "42000/42000 [==============================] - 11s 265us/sample - loss: 0.9204 - accuracy: 0.7145 - val_loss: 0.6317 - val_accuracy: 0.8159\n",
      "Epoch 18/100\n",
      "42000/42000 [==============================] - 11s 253us/sample - loss: 0.9048 - accuracy: 0.7210 - val_loss: 0.6173 - val_accuracy: 0.8231\n",
      "Epoch 19/100\n",
      "42000/42000 [==============================] - 11s 253us/sample - loss: 0.8965 - accuracy: 0.7221 - val_loss: 0.6258 - val_accuracy: 0.8231\n",
      "Epoch 20/100\n",
      "42000/42000 [==============================] - 11s 258us/sample - loss: 0.8888 - accuracy: 0.7243 - val_loss: 0.6034 - val_accuracy: 0.8307\n",
      "Epoch 21/100\n",
      "42000/42000 [==============================] - 10s 248us/sample - loss: 0.8864 - accuracy: 0.7239 - val_loss: 0.5966 - val_accuracy: 0.8311\n",
      "Epoch 22/100\n",
      "42000/42000 [==============================] - 11s 270us/sample - loss: 0.8838 - accuracy: 0.7271 - val_loss: 0.5920 - val_accuracy: 0.8323\n",
      "Epoch 23/100\n",
      "42000/42000 [==============================] - 12s 275us/sample - loss: 0.8757 - accuracy: 0.7284 - val_loss: 0.5966 - val_accuracy: 0.8305\n",
      "Epoch 24/100\n",
      "42000/42000 [==============================] - 10s 247us/sample - loss: 0.8706 - accuracy: 0.7307 - val_loss: 0.5882 - val_accuracy: 0.8374\n",
      "Epoch 25/100\n",
      "42000/42000 [==============================] - 10s 247us/sample - loss: 0.8591 - accuracy: 0.7356 - val_loss: 0.5807 - val_accuracy: 0.8357\n",
      "Epoch 26/100\n",
      "42000/42000 [==============================] - 10s 245us/sample - loss: 0.8525 - accuracy: 0.7344 - val_loss: 0.5733 - val_accuracy: 0.8374\n",
      "Epoch 27/100\n",
      "42000/42000 [==============================] - 11s 260us/sample - loss: 0.8495 - accuracy: 0.7383 - val_loss: 0.5633 - val_accuracy: 0.8417\n",
      "Epoch 28/100\n",
      "42000/42000 [==============================] - 11s 261us/sample - loss: 0.8429 - accuracy: 0.7405 - val_loss: 0.5689 - val_accuracy: 0.8431\n",
      "Epoch 29/100\n",
      "42000/42000 [==============================] - 10s 248us/sample - loss: 0.8429 - accuracy: 0.7383 - val_loss: 0.5607 - val_accuracy: 0.8453\n",
      "Epoch 30/100\n",
      "42000/42000 [==============================] - 10s 247us/sample - loss: 0.8331 - accuracy: 0.7410 - val_loss: 0.5649 - val_accuracy: 0.8432\n",
      "Epoch 31/100\n",
      "42000/42000 [==============================] - 10s 246us/sample - loss: 0.8276 - accuracy: 0.7438 - val_loss: 0.5525 - val_accuracy: 0.8454\n",
      "Epoch 32/100\n",
      "42000/42000 [==============================] - 11s 252us/sample - loss: 0.8214 - accuracy: 0.7459 - val_loss: 0.5499 - val_accuracy: 0.8460\n",
      "Epoch 33/100\n",
      "42000/42000 [==============================] - 11s 250us/sample - loss: 0.8213 - accuracy: 0.7473 - val_loss: 0.5435 - val_accuracy: 0.8491\n",
      "Epoch 34/100\n",
      "42000/42000 [==============================] - 11s 260us/sample - loss: 0.8146 - accuracy: 0.7498 - val_loss: 0.5481 - val_accuracy: 0.8450\n",
      "Epoch 35/100\n",
      "42000/42000 [==============================] - 10s 250us/sample - loss: 0.8086 - accuracy: 0.7490 - val_loss: 0.5465 - val_accuracy: 0.8446\n",
      "Epoch 36/100\n",
      "42000/42000 [==============================] - 10s 245us/sample - loss: 0.8068 - accuracy: 0.7490 - val_loss: 0.5352 - val_accuracy: 0.8496\n",
      "Epoch 37/100\n",
      "42000/42000 [==============================] - 10s 243us/sample - loss: 0.8030 - accuracy: 0.7520 - val_loss: 0.5393 - val_accuracy: 0.8494\n",
      "Epoch 38/100\n",
      "42000/42000 [==============================] - 10s 242us/sample - loss: 0.8049 - accuracy: 0.7503 - val_loss: 0.5340 - val_accuracy: 0.8505\n",
      "Epoch 39/100\n",
      "42000/42000 [==============================] - 10s 249us/sample - loss: 0.8012 - accuracy: 0.7509 - val_loss: 0.5574 - val_accuracy: 0.8481\n",
      "Epoch 40/100\n",
      "42000/42000 [==============================] - 11s 257us/sample - loss: 0.8019 - accuracy: 0.7501 - val_loss: 0.5367 - val_accuracy: 0.8512\n",
      "Epoch 41/100\n",
      "42000/42000 [==============================] - 10s 241us/sample - loss: 0.8025 - accuracy: 0.7496 - val_loss: 0.5248 - val_accuracy: 0.8526\n",
      "Epoch 42/100\n",
      "42000/42000 [==============================] - 10s 246us/sample - loss: 0.7937 - accuracy: 0.7554 - val_loss: 0.5218 - val_accuracy: 0.8514\n",
      "Epoch 43/100\n",
      "42000/42000 [==============================] - 11s 251us/sample - loss: 0.7944 - accuracy: 0.7556 - val_loss: 0.5260 - val_accuracy: 0.8519\n",
      "Epoch 44/100\n",
      "42000/42000 [==============================] - 10s 249us/sample - loss: 0.7860 - accuracy: 0.7562 - val_loss: 0.5227 - val_accuracy: 0.8544\n",
      "Epoch 45/100\n",
      "42000/42000 [==============================] - 10s 248us/sample - loss: 0.7905 - accuracy: 0.7553 - val_loss: 0.5269 - val_accuracy: 0.8522\n",
      "Epoch 46/100\n",
      "42000/42000 [==============================] - 11s 254us/sample - loss: 0.7863 - accuracy: 0.7562 - val_loss: 0.5145 - val_accuracy: 0.8567\n",
      "Epoch 47/100\n",
      "42000/42000 [==============================] - 10s 244us/sample - loss: 0.7843 - accuracy: 0.7579 - val_loss: 0.5156 - val_accuracy: 0.8547\n",
      "Epoch 48/100\n",
      "42000/42000 [==============================] - 10s 241us/sample - loss: 0.7789 - accuracy: 0.7587 - val_loss: 0.5160 - val_accuracy: 0.8555\n",
      "Epoch 49/100\n",
      "42000/42000 [==============================] - 10s 243us/sample - loss: 0.7801 - accuracy: 0.7573 - val_loss: 0.5219 - val_accuracy: 0.8559\n",
      "Epoch 50/100\n",
      "42000/42000 [==============================] - 10s 249us/sample - loss: 0.7732 - accuracy: 0.7607 - val_loss: 0.5247 - val_accuracy: 0.8527\n",
      "Epoch 51/100\n",
      "42000/42000 [==============================] - 11s 259us/sample - loss: 0.7765 - accuracy: 0.7588 - val_loss: 0.5187 - val_accuracy: 0.8512\n",
      "Epoch 52/100\n",
      "42000/42000 [==============================] - 11s 260us/sample - loss: 0.7700 - accuracy: 0.7629 - val_loss: 0.5075 - val_accuracy: 0.8546\n",
      "Epoch 53/100\n",
      "42000/42000 [==============================] - 10s 248us/sample - loss: 0.7655 - accuracy: 0.7615 - val_loss: 0.5089 - val_accuracy: 0.8564\n",
      "Epoch 54/100\n",
      "42000/42000 [==============================] - 10s 239us/sample - loss: 0.7687 - accuracy: 0.7630 - val_loss: 0.5076 - val_accuracy: 0.8589\n",
      "Epoch 55/100\n",
      "42000/42000 [==============================] - 10s 238us/sample - loss: 0.7636 - accuracy: 0.7630 - val_loss: 0.5116 - val_accuracy: 0.8563\n",
      "Epoch 56/100\n",
      "42000/42000 [==============================] - 10s 244us/sample - loss: 0.7583 - accuracy: 0.7662 - val_loss: 0.5024 - val_accuracy: 0.8578\n",
      "Epoch 57/100\n",
      "42000/42000 [==============================] - 10s 250us/sample - loss: 0.7577 - accuracy: 0.7652 - val_loss: 0.5192 - val_accuracy: 0.8494\n",
      "Epoch 58/100\n",
      "42000/42000 [==============================] - 10s 248us/sample - loss: 0.7715 - accuracy: 0.7599 - val_loss: 0.4962 - val_accuracy: 0.8602\n",
      "Epoch 59/100\n",
      "42000/42000 [==============================] - 10s 238us/sample - loss: 0.7552 - accuracy: 0.7664 - val_loss: 0.4895 - val_accuracy: 0.8605\n",
      "Epoch 60/100\n",
      "42000/42000 [==============================] - 10s 237us/sample - loss: 0.7595 - accuracy: 0.7657 - val_loss: 0.4850 - val_accuracy: 0.8601\n",
      "Epoch 61/100\n",
      "42000/42000 [==============================] - 10s 243us/sample - loss: 0.7489 - accuracy: 0.7679 - val_loss: 0.4951 - val_accuracy: 0.8623\n",
      "Epoch 62/100\n",
      "42000/42000 [==============================] - 10s 245us/sample - loss: 0.7585 - accuracy: 0.7653 - val_loss: 0.5141 - val_accuracy: 0.8600\n",
      "Epoch 63/100\n",
      "42000/42000 [==============================] - 10s 246us/sample - loss: 0.7579 - accuracy: 0.7658 - val_loss: 0.4912 - val_accuracy: 0.8613\n",
      "Epoch 64/100\n",
      "42000/42000 [==============================] - 10s 232us/sample - loss: 0.7451 - accuracy: 0.7699 - val_loss: 0.4941 - val_accuracy: 0.8610\n",
      "Epoch 65/100\n",
      "42000/42000 [==============================] - 10s 236us/sample - loss: 0.7429 - accuracy: 0.7716 - val_loss: 0.5009 - val_accuracy: 0.8544\n",
      "Epoch 66/100\n",
      "42000/42000 [==============================] - 10s 241us/sample - loss: 0.7402 - accuracy: 0.7704 - val_loss: 0.4842 - val_accuracy: 0.8623\n",
      "Epoch 67/100\n",
      "42000/42000 [==============================] - 10s 231us/sample - loss: 0.7536 - accuracy: 0.7669 - val_loss: 0.4997 - val_accuracy: 0.8620\n",
      "Epoch 68/100\n",
      "42000/42000 [==============================] - 10s 240us/sample - loss: 0.7407 - accuracy: 0.7724 - val_loss: 0.4926 - val_accuracy: 0.8601\n",
      "Epoch 69/100\n",
      "42000/42000 [==============================] - 10s 246us/sample - loss: 0.7494 - accuracy: 0.7684 - val_loss: 0.4816 - val_accuracy: 0.8654\n",
      "Epoch 70/100\n",
      "42000/42000 [==============================] - 10s 235us/sample - loss: 0.7358 - accuracy: 0.7718 - val_loss: 0.4969 - val_accuracy: 0.8604\n",
      "Epoch 71/100\n",
      "42000/42000 [==============================] - 10s 234us/sample - loss: 0.7439 - accuracy: 0.7699 - val_loss: 0.4892 - val_accuracy: 0.8614\n",
      "Epoch 72/100\n",
      "42000/42000 [==============================] - 10s 231us/sample - loss: 0.7307 - accuracy: 0.7729 - val_loss: 0.4794 - val_accuracy: 0.8622\n",
      "Epoch 73/100\n",
      "42000/42000 [==============================] - 10s 238us/sample - loss: 0.7326 - accuracy: 0.7717 - val_loss: 0.4832 - val_accuracy: 0.8654\n",
      "Epoch 74/100\n",
      "42000/42000 [==============================] - 11s 252us/sample - loss: 0.7279 - accuracy: 0.7753 - val_loss: 0.4888 - val_accuracy: 0.8624\n",
      "Epoch 75/100\n",
      "42000/42000 [==============================] - 11s 252us/sample - loss: 0.7292 - accuracy: 0.7744 - val_loss: 0.4809 - val_accuracy: 0.8617\n",
      "Epoch 76/100\n",
      "42000/42000 [==============================] - 10s 249us/sample - loss: 0.7251 - accuracy: 0.7756 - val_loss: 0.4767 - val_accuracy: 0.8621\n",
      "Epoch 77/100\n",
      "42000/42000 [==============================] - 10s 244us/sample - loss: 0.7345 - accuracy: 0.7712 - val_loss: 0.4872 - val_accuracy: 0.8599\n",
      "Epoch 78/100\n",
      "42000/42000 [==============================] - 12s 277us/sample - loss: 0.7189 - accuracy: 0.7755 - val_loss: 0.4725 - val_accuracy: 0.8642\n",
      "Epoch 79/100\n",
      "42000/42000 [==============================] - 11s 254us/sample - loss: 0.7213 - accuracy: 0.7762 - val_loss: 0.4811 - val_accuracy: 0.8607\n",
      "Epoch 80/100\n",
      "42000/42000 [==============================] - 11s 271us/sample - loss: 0.7264 - accuracy: 0.7787 - val_loss: 0.4838 - val_accuracy: 0.8611\n",
      "Epoch 81/100\n",
      "42000/42000 [==============================] - 12s 277us/sample - loss: 0.7310 - accuracy: 0.7735 - val_loss: 0.4737 - val_accuracy: 0.8670\n",
      "Epoch 82/100\n",
      "42000/42000 [==============================] - 12s 280us/sample - loss: 0.7282 - accuracy: 0.7765 - val_loss: 0.4773 - val_accuracy: 0.8676\n",
      "Epoch 83/100\n",
      "42000/42000 [==============================] - 11s 258us/sample - loss: 0.7272 - accuracy: 0.7737 - val_loss: 0.4749 - val_accuracy: 0.8652\n",
      "Epoch 84/100\n",
      "42000/42000 [==============================] - 10s 246us/sample - loss: 0.7225 - accuracy: 0.7776 - val_loss: 0.4751 - val_accuracy: 0.8634\n",
      "Epoch 85/100\n",
      "42000/42000 [==============================] - 11s 257us/sample - loss: 0.7159 - accuracy: 0.7774 - val_loss: 0.4761 - val_accuracy: 0.8644\n",
      "Epoch 86/100\n",
      "42000/42000 [==============================] - 11s 254us/sample - loss: 0.7180 - accuracy: 0.7769 - val_loss: 0.4791 - val_accuracy: 0.8648\n",
      "Epoch 87/100\n",
      "42000/42000 [==============================] - 10s 245us/sample - loss: 0.7254 - accuracy: 0.7754 - val_loss: 0.4860 - val_accuracy: 0.8636\n",
      "Epoch 88/100\n",
      "42000/42000 [==============================] - 10s 244us/sample - loss: 0.7154 - accuracy: 0.7775 - val_loss: 0.4761 - val_accuracy: 0.8638\n",
      "Epoch 89/100\n",
      "42000/42000 [==============================] - 11s 253us/sample - loss: 0.7210 - accuracy: 0.7785 - val_loss: 0.4765 - val_accuracy: 0.8642\n",
      "Epoch 90/100\n",
      "42000/42000 [==============================] - 10s 243us/sample - loss: 0.7143 - accuracy: 0.7794 - val_loss: 0.4708 - val_accuracy: 0.8671\n",
      "Epoch 91/100\n",
      "42000/42000 [==============================] - 11s 263us/sample - loss: 0.7097 - accuracy: 0.7793 - val_loss: 0.4775 - val_accuracy: 0.8671\n",
      "Epoch 92/100\n",
      "42000/42000 [==============================] - 10s 250us/sample - loss: 0.7152 - accuracy: 0.7789 - val_loss: 0.4780 - val_accuracy: 0.8643\n",
      "Epoch 93/100\n",
      "42000/42000 [==============================] - 10s 240us/sample - loss: 0.7037 - accuracy: 0.7809 - val_loss: 0.4718 - val_accuracy: 0.8674\n",
      "Epoch 94/100\n",
      "42000/42000 [==============================] - 10s 248us/sample - loss: 0.7150 - accuracy: 0.7784 - val_loss: 0.4683 - val_accuracy: 0.8679\n",
      "Epoch 95/100\n",
      "42000/42000 [==============================] - 10s 241us/sample - loss: 0.7139 - accuracy: 0.7799 - val_loss: 0.4567 - val_accuracy: 0.8679\n",
      "Epoch 96/100\n",
      "42000/42000 [==============================] - 10s 247us/sample - loss: 0.7185 - accuracy: 0.7777 - val_loss: 0.4676 - val_accuracy: 0.8671\n",
      "Epoch 97/100\n",
      "42000/42000 [==============================] - 11s 255us/sample - loss: 0.7125 - accuracy: 0.7790 - val_loss: 0.4735 - val_accuracy: 0.8681\n",
      "Epoch 98/100\n",
      "42000/42000 [==============================] - 10s 249us/sample - loss: 0.7028 - accuracy: 0.7824 - val_loss: 0.4682 - val_accuracy: 0.8666\n",
      "Epoch 99/100\n",
      "42000/42000 [==============================] - 10s 241us/sample - loss: 0.7053 - accuracy: 0.7813 - val_loss: 0.4822 - val_accuracy: 0.8644\n",
      "Epoch 100/100\n",
      "42000/42000 [==============================] - 10s 243us/sample - loss: 0.7113 - accuracy: 0.7804 - val_loss: 0.4640 - val_accuracy: 0.8693\n"
     ]
    },
    {
     "data": {
      "image/png": "[encoded data removed]",
      "text/plain": [
       "<Figure size 432x288 with 1 Axes>"
      ]
     },
     "metadata": {
      "tags": []
     },
     "output_type": "display_data"
    },
    {
     "data": {
      "image/png": "[encoded data removed]",
      "text/plain": [
       "<Figure size 432x288 with 1 Axes>"
      ]
     },
     "metadata": {
      "tags": []
     },
     "output_type": "display_data"
    }
   ],
   "source": [
    "history = m.fit(X_train, y_train1, validation_data=(X_test, y_test1), epochs=100, batch_size=32)\n",
    "\n",
    "# Plot training & validation accuracy values\n",
    "plt.plot(history.history['accuracy'])\n",
    "plt.plot(history.history['val_accuracy'])\n",
    "plt.title('Model accuracy')\n",
    "plt.ylabel('Accuracy')\n",
    "plt.xlabel('Epoch')\n",
    "plt.legend(['Train', 'Test'], loc='upper left')\n",
    "plt.show()\n",
    "\n",
    "# Plot training & validation loss values\n",
    "plt.plot(history.history['loss'])\n",
    "plt.plot(history.history['val_loss'])\n",
    "plt.title('Model loss')\n",
    "plt.ylabel('Loss')\n",
    "plt.xlabel('Epoch')\n",
    "plt.legend(['Train', 'Test'], loc='upper left')\n",
    "plt.show()"
   ]
  },
  {
   "cell_type": "code",
   "execution_count": 0,
   "metadata": {
    "colab": {},
    "colab_type": "code",
    "id": "RNMnpC7_KkX1"
   },
   "outputs": [],
   "source": [
    "m.save('Arpit_StreetView.h5')"
   ]
  },
  {
   "cell_type": "code",
   "execution_count": 0,
   "metadata": {
    "colab": {},
    "colab_type": "code",
    "id": "A0X-76E9Qu6Z"
   },
   "outputs": [],
   "source": [
    "from google.colab import files\n",
    "\n",
    "files.download('Arpit_StreetView.h5')"
   ]
  },
  {
   "cell_type": "code",
   "execution_count": 0,
   "metadata": {
    "colab": {},
    "colab_type": "code",
    "id": "7baG87b9RkA8"
   },
   "outputs": [],
   "source": [
    "m2=tf.keras.models.Sequential()\n",
    "m2.add(tf.keras.layers.Reshape((1024,), input_shape=(32,32,)))\n",
    "m2.add(tf.keras.layers.BatchNormalization())\n",
    "m2.add(tf.keras.layers.Dense(300, activation='relu'))\n",
    "m2.add(tf.keras.layers.Dropout(0.5))\n",
    "m2.add(tf.keras.layers.BatchNormalization())\n",
    "m2.add(tf.keras.layers.Dense(200, activation='relu'))\n",
    "m2.add(tf.keras.layers.Dropout(0.5))\n",
    "m2.add(tf.keras.layers.BatchNormalization())\n",
    "m2.add(tf.keras.layers.Dense(50, activation='relu'))\n",
    "m2.add(tf.keras.layers.Dropout(0.5))\n",
    "m2.add(tf.keras.layers.BatchNormalization())\n",
    "m2.add(tf.keras.layers.Dense(10, activation='softmax'))\n",
    "m2.compile(optimizer='Nadam', loss='categorical_crossentropy', metrics=['accuracy'])"
   ]
  },
  {
   "cell_type": "code",
   "execution_count": 35,
   "metadata": {
    "colab": {
     "base_uri": "https://localhost:8080/",
     "height": 561
    },
    "colab_type": "code",
    "id": "6rd937H9RvyE",
    "outputId": "3b32bf40-d79f-4ecc-da0a-9207a035b0ab"
   },
   "outputs": [
    {
     "name": "stdout",
     "output_type": "stream",
     "text": [
      "Model: \"sequential_3\"\n",
      "_________________________________________________________________\n",
      "Layer (type)                 Output Shape              Param #   \n",
      "=================================================================\n",
      "reshape_3 (Reshape)          (None, 1024)              0         \n",
      "_________________________________________________________________\n",
      "batch_normalization_12 (Batc (None, 1024)              4096      \n",
      "_________________________________________________________________\n",
      "dense_12 (Dense)             (None, 300)               307500    \n",
      "_________________________________________________________________\n",
      "dropout_9 (Dropout)          (None, 300)               0         \n",
      "_________________________________________________________________\n",
      "batch_normalization_13 (Batc (None, 300)               1200      \n",
      "_________________________________________________________________\n",
      "dense_13 (Dense)             (None, 200)               60200     \n",
      "_________________________________________________________________\n",
      "dropout_10 (Dropout)         (None, 200)               0         \n",
      "_________________________________________________________________\n",
      "batch_normalization_14 (Batc (None, 200)               800       \n",
      "_________________________________________________________________\n",
      "dense_14 (Dense)             (None, 50)                10050     \n",
      "_________________________________________________________________\n",
      "dropout_11 (Dropout)         (None, 50)                0         \n",
      "_________________________________________________________________\n",
      "batch_normalization_15 (Batc (None, 50)                200       \n",
      "_________________________________________________________________\n",
      "dense_15 (Dense)             (None, 10)                510       \n",
      "=================================================================\n",
      "Total params: 384,556\n",
      "Trainable params: 381,408\n",
      "Non-trainable params: 3,148\n",
      "_________________________________________________________________\n"
     ]
    }
   ],
   "source": [
    "m2.summary()"
   ]
  },
  {
   "cell_type": "code",
   "execution_count": 36,
   "metadata": {
    "colab": {
     "base_uri": "https://localhost:8080/",
     "height": 1000
    },
    "colab_type": "code",
    "id": "5WRmn5o7Q4oQ",
    "outputId": "4544c9c1-f810-458d-f046-d3686ebdd340"
   },
   "outputs": [
    {
     "name": "stdout",
     "output_type": "stream",
     "text": [
      "Train on 42000 samples, validate on 18000 samples\n",
      "Epoch 1/200\n",
      "42000/42000 [==============================] - 17s 406us/sample - loss: 2.3822 - accuracy: 0.1361 - val_loss: 1.9559 - val_accuracy: 0.3081\n",
      "Epoch 2/200\n",
      "42000/42000 [==============================] - 15s 346us/sample - loss: 2.0189 - accuracy: 0.2556 - val_loss: 1.6964 - val_accuracy: 0.4060\n",
      "Epoch 3/200\n",
      "42000/42000 [==============================] - 14s 341us/sample - loss: 1.8457 - accuracy: 0.3371 - val_loss: 1.4885 - val_accuracy: 0.5190\n",
      "Epoch 4/200\n",
      "42000/42000 [==============================] - 14s 333us/sample - loss: 1.7509 - accuracy: 0.3804 - val_loss: 1.4021 - val_accuracy: 0.5644\n",
      "Epoch 5/200\n",
      "42000/42000 [==============================] - 14s 344us/sample - loss: 1.6762 - accuracy: 0.4119 - val_loss: 1.3318 - val_accuracy: 0.5832\n",
      "Epoch 6/200\n",
      "42000/42000 [==============================] - 14s 345us/sample - loss: 1.6438 - accuracy: 0.4305 - val_loss: 1.3401 - val_accuracy: 0.6044\n",
      "Epoch 7/200\n",
      "42000/42000 [==============================] - 14s 339us/sample - loss: 1.6053 - accuracy: 0.4434 - val_loss: 1.2674 - val_accuracy: 0.6285\n",
      "Epoch 8/200\n",
      "42000/42000 [==============================] - 14s 338us/sample - loss: 1.5769 - accuracy: 0.4589 - val_loss: 1.2212 - val_accuracy: 0.6299\n",
      "Epoch 9/200\n",
      "42000/42000 [==============================] - 15s 346us/sample - loss: 1.5464 - accuracy: 0.4717 - val_loss: 1.2251 - val_accuracy: 0.6365\n",
      "Epoch 10/200\n",
      "42000/42000 [==============================] - 14s 341us/sample - loss: 1.5429 - accuracy: 0.4738 - val_loss: 1.1825 - val_accuracy: 0.6519\n",
      "Epoch 11/200\n",
      "42000/42000 [==============================] - 14s 335us/sample - loss: 1.5193 - accuracy: 0.4851 - val_loss: 1.1962 - val_accuracy: 0.6619\n",
      "Epoch 12/200\n",
      "42000/42000 [==============================] - 14s 335us/sample - loss: 1.5045 - accuracy: 0.4966 - val_loss: 1.1626 - val_accuracy: 0.6636\n",
      "Epoch 13/200\n",
      "42000/42000 [==============================] - 14s 343us/sample - loss: 1.4869 - accuracy: 0.5002 - val_loss: 1.1280 - val_accuracy: 0.6807\n",
      "Epoch 14/200\n",
      "42000/42000 [==============================] - 14s 343us/sample - loss: 1.4713 - accuracy: 0.5121 - val_loss: 1.1306 - val_accuracy: 0.6849\n",
      "Epoch 15/200\n",
      "42000/42000 [==============================] - 14s 326us/sample - loss: 1.4662 - accuracy: 0.5122 - val_loss: 1.1026 - val_accuracy: 0.6901\n",
      "Epoch 16/200\n",
      "42000/42000 [==============================] - 14s 327us/sample - loss: 1.4398 - accuracy: 0.5224 - val_loss: 1.0996 - val_accuracy: 0.6997\n",
      "Epoch 17/200\n",
      "42000/42000 [==============================] - 14s 328us/sample - loss: 1.4206 - accuracy: 0.5339 - val_loss: 1.0665 - val_accuracy: 0.7102\n",
      "Epoch 18/200\n",
      "42000/42000 [==============================] - 14s 344us/sample - loss: 1.4105 - accuracy: 0.5415 - val_loss: 1.0843 - val_accuracy: 0.7106\n",
      "Epoch 19/200\n",
      "42000/42000 [==============================] - 14s 333us/sample - loss: 1.3959 - accuracy: 0.5481 - val_loss: 1.0307 - val_accuracy: 0.7193\n",
      "Epoch 20/200\n",
      "42000/42000 [==============================] - 14s 339us/sample - loss: 1.3901 - accuracy: 0.5504 - val_loss: 1.0356 - val_accuracy: 0.7259\n",
      "Epoch 21/200\n",
      "42000/42000 [==============================] - 14s 326us/sample - loss: 1.3836 - accuracy: 0.5545 - val_loss: 1.0266 - val_accuracy: 0.7338\n",
      "Epoch 22/200\n",
      "42000/42000 [==============================] - 14s 338us/sample - loss: 1.3734 - accuracy: 0.5600 - val_loss: 1.0112 - val_accuracy: 0.7320\n",
      "Epoch 23/200\n",
      "42000/42000 [==============================] - 14s 333us/sample - loss: 1.3681 - accuracy: 0.5615 - val_loss: 0.9953 - val_accuracy: 0.7424\n",
      "Epoch 24/200\n",
      "42000/42000 [==============================] - 14s 336us/sample - loss: 1.3545 - accuracy: 0.5673 - val_loss: 1.0022 - val_accuracy: 0.7383\n",
      "Epoch 25/200\n",
      "42000/42000 [==============================] - 13s 320us/sample - loss: 1.3432 - accuracy: 0.5749 - val_loss: 0.9723 - val_accuracy: 0.7417\n",
      "Epoch 26/200\n",
      "42000/42000 [==============================] - 14s 329us/sample - loss: 1.3247 - accuracy: 0.5808 - val_loss: 0.9285 - val_accuracy: 0.7564\n",
      "Epoch 27/200\n",
      "42000/42000 [==============================] - 14s 337us/sample - loss: 1.3177 - accuracy: 0.5799 - val_loss: 0.9609 - val_accuracy: 0.7547\n",
      "Epoch 28/200\n",
      "42000/42000 [==============================] - 14s 322us/sample - loss: 1.3201 - accuracy: 0.5817 - val_loss: 0.9928 - val_accuracy: 0.7521\n",
      "Epoch 29/200\n",
      "42000/42000 [==============================] - 14s 326us/sample - loss: 1.3060 - accuracy: 0.5891 - val_loss: 0.9272 - val_accuracy: 0.7571\n",
      "Epoch 30/200\n",
      "42000/42000 [==============================] - 14s 330us/sample - loss: 1.3088 - accuracy: 0.5874 - val_loss: 0.9390 - val_accuracy: 0.7590\n",
      "Epoch 31/200\n",
      "42000/42000 [==============================] - 14s 336us/sample - loss: 1.3057 - accuracy: 0.5899 - val_loss: 0.9325 - val_accuracy: 0.7623\n",
      "Epoch 32/200\n",
      "42000/42000 [==============================] - 14s 323us/sample - loss: 1.2899 - accuracy: 0.5952 - val_loss: 0.8810 - val_accuracy: 0.7683\n",
      "Epoch 33/200\n",
      "42000/42000 [==============================] - 14s 324us/sample - loss: 1.2865 - accuracy: 0.5968 - val_loss: 0.9076 - val_accuracy: 0.7630\n",
      "Epoch 34/200\n",
      "42000/42000 [==============================] - 13s 318us/sample - loss: 1.2762 - accuracy: 0.6014 - val_loss: 0.9145 - val_accuracy: 0.7683\n",
      "Epoch 35/200\n",
      "42000/42000 [==============================] - 14s 331us/sample - loss: 1.2934 - accuracy: 0.5932 - val_loss: 0.9399 - val_accuracy: 0.7638\n",
      "Epoch 36/200\n",
      "42000/42000 [==============================] - 14s 330us/sample - loss: 1.2823 - accuracy: 0.5980 - val_loss: 0.9022 - val_accuracy: 0.7672\n",
      "Epoch 37/200\n",
      "42000/42000 [==============================] - 13s 318us/sample - loss: 1.2730 - accuracy: 0.6014 - val_loss: 0.9035 - val_accuracy: 0.7664\n",
      "Epoch 38/200\n",
      "42000/42000 [==============================] - 14s 323us/sample - loss: 1.2666 - accuracy: 0.6054 - val_loss: 0.9304 - val_accuracy: 0.7632\n",
      "Epoch 39/200\n",
      "42000/42000 [==============================] - 13s 318us/sample - loss: 1.2725 - accuracy: 0.6026 - val_loss: 0.9092 - val_accuracy: 0.7726\n",
      "Epoch 40/200\n",
      "42000/42000 [==============================] - 14s 331us/sample - loss: 1.2704 - accuracy: 0.6048 - val_loss: 0.9039 - val_accuracy: 0.7752\n",
      "Epoch 41/200\n",
      "42000/42000 [==============================] - 13s 319us/sample - loss: 1.2637 - accuracy: 0.6058 - val_loss: 0.8999 - val_accuracy: 0.7701\n",
      "Epoch 42/200\n",
      "42000/42000 [==============================] - 14s 327us/sample - loss: 1.2476 - accuracy: 0.6126 - val_loss: 0.8751 - val_accuracy: 0.7718\n",
      "Epoch 43/200\n",
      "42000/42000 [==============================] - 14s 327us/sample - loss: 1.2511 - accuracy: 0.6145 - val_loss: 0.8772 - val_accuracy: 0.7788\n",
      "Epoch 44/200\n",
      "42000/42000 [==============================] - 14s 333us/sample - loss: 1.2428 - accuracy: 0.6119 - val_loss: 0.9355 - val_accuracy: 0.7686\n",
      "Epoch 45/200\n",
      "42000/42000 [==============================] - 14s 327us/sample - loss: 1.2618 - accuracy: 0.6056 - val_loss: 0.8835 - val_accuracy: 0.7736\n",
      "Epoch 46/200\n",
      "42000/42000 [==============================] - 14s 327us/sample - loss: 1.2478 - accuracy: 0.6115 - val_loss: 0.8858 - val_accuracy: 0.7726\n",
      "Epoch 47/200\n",
      "42000/42000 [==============================] - 14s 322us/sample - loss: 1.2427 - accuracy: 0.6146 - val_loss: 0.8829 - val_accuracy: 0.7773\n",
      "Epoch 48/200\n",
      "42000/42000 [==============================] - 14s 331us/sample - loss: 1.2393 - accuracy: 0.6185 - val_loss: 0.8746 - val_accuracy: 0.7766\n",
      "Epoch 49/200\n",
      "42000/42000 [==============================] - 14s 329us/sample - loss: 1.2352 - accuracy: 0.6118 - val_loss: 0.9031 - val_accuracy: 0.7717\n",
      "Epoch 50/200\n",
      "42000/42000 [==============================] - 13s 318us/sample - loss: 1.2263 - accuracy: 0.6193 - val_loss: 0.8666 - val_accuracy: 0.7796\n",
      "Epoch 51/200\n",
      "42000/42000 [==============================] - 13s 316us/sample - loss: 1.2245 - accuracy: 0.6202 - val_loss: 0.8807 - val_accuracy: 0.7747\n",
      "Epoch 52/200\n",
      "42000/42000 [==============================] - 13s 318us/sample - loss: 1.2305 - accuracy: 0.6163 - val_loss: 0.8482 - val_accuracy: 0.7788\n",
      "Epoch 53/200\n",
      "42000/42000 [==============================] - 14s 339us/sample - loss: 1.2213 - accuracy: 0.6219 - val_loss: 0.8602 - val_accuracy: 0.7856\n",
      "Epoch 54/200\n",
      "42000/42000 [==============================] - 14s 327us/sample - loss: 1.2237 - accuracy: 0.6205 - val_loss: 0.8950 - val_accuracy: 0.7713\n",
      "Epoch 55/200\n",
      "42000/42000 [==============================] - 13s 319us/sample - loss: 1.2377 - accuracy: 0.6172 - val_loss: 0.8980 - val_accuracy: 0.7793\n",
      "Epoch 56/200\n",
      "42000/42000 [==============================] - 13s 318us/sample - loss: 1.2209 - accuracy: 0.6234 - val_loss: 0.8560 - val_accuracy: 0.7872\n",
      "Epoch 57/200\n",
      "42000/42000 [==============================] - 14s 334us/sample - loss: 1.2158 - accuracy: 0.6272 - val_loss: 0.8687 - val_accuracy: 0.7830\n",
      "Epoch 58/200\n",
      "42000/42000 [==============================] - 14s 333us/sample - loss: 1.2209 - accuracy: 0.6206 - val_loss: 0.8906 - val_accuracy: 0.7809\n",
      "Epoch 59/200\n",
      "42000/42000 [==============================] - 14s 332us/sample - loss: 1.2179 - accuracy: 0.6250 - val_loss: 0.9002 - val_accuracy: 0.7829\n",
      "Epoch 60/200\n",
      "42000/42000 [==============================] - 14s 326us/sample - loss: 1.2233 - accuracy: 0.6228 - val_loss: 0.8634 - val_accuracy: 0.7825\n",
      "Epoch 61/200\n",
      "42000/42000 [==============================] - 14s 327us/sample - loss: 1.2167 - accuracy: 0.6233 - val_loss: 0.8777 - val_accuracy: 0.7809\n",
      "Epoch 62/200\n",
      "42000/42000 [==============================] - 14s 338us/sample - loss: 1.2188 - accuracy: 0.6228 - val_loss: 0.8580 - val_accuracy: 0.7911\n",
      "Epoch 63/200\n",
      "42000/42000 [==============================] - 13s 317us/sample - loss: 1.2066 - accuracy: 0.6274 - val_loss: 0.8376 - val_accuracy: 0.7906\n",
      "Epoch 64/200\n",
      "42000/42000 [==============================] - 14s 322us/sample - loss: 1.1969 - accuracy: 0.6305 - val_loss: 0.8260 - val_accuracy: 0.7958\n",
      "Epoch 65/200\n",
      "42000/42000 [==============================] - 14s 337us/sample - loss: 1.1971 - accuracy: 0.6315 - val_loss: 0.8184 - val_accuracy: 0.7929\n",
      "Epoch 66/200\n",
      "42000/42000 [==============================] - 14s 335us/sample - loss: 1.1875 - accuracy: 0.6338 - val_loss: 0.8098 - val_accuracy: 0.7955\n",
      "Epoch 67/200\n",
      "42000/42000 [==============================] - 13s 321us/sample - loss: 1.1916 - accuracy: 0.6345 - val_loss: 0.8422 - val_accuracy: 0.7904\n",
      "Epoch 68/200\n",
      "42000/42000 [==============================] - 14s 334us/sample - loss: 1.1891 - accuracy: 0.6349 - val_loss: 0.8140 - val_accuracy: 0.7911\n",
      "Epoch 69/200\n",
      "42000/42000 [==============================] - 15s 346us/sample - loss: 1.1925 - accuracy: 0.6326 - val_loss: 0.8238 - val_accuracy: 0.7946\n",
      "Epoch 70/200\n",
      "42000/42000 [==============================] - 15s 358us/sample - loss: 1.1827 - accuracy: 0.6364 - val_loss: 0.8198 - val_accuracy: 0.7949\n",
      "Epoch 71/200\n",
      "42000/42000 [==============================] - 15s 355us/sample - loss: 1.1745 - accuracy: 0.6392 - val_loss: 0.7940 - val_accuracy: 0.7964\n",
      "Epoch 72/200\n",
      "42000/42000 [==============================] - 14s 339us/sample - loss: 1.1817 - accuracy: 0.6365 - val_loss: 0.7874 - val_accuracy: 0.7957\n",
      "Epoch 73/200\n",
      "42000/42000 [==============================] - 14s 343us/sample - loss: 1.1817 - accuracy: 0.6350 - val_loss: 0.8088 - val_accuracy: 0.7967\n",
      "Epoch 74/200\n",
      "42000/42000 [==============================] - 15s 357us/sample - loss: 1.1793 - accuracy: 0.6383 - val_loss: 0.8136 - val_accuracy: 0.7937\n",
      "Epoch 75/200\n",
      "42000/42000 [==============================] - 15s 368us/sample - loss: 1.1788 - accuracy: 0.6392 - val_loss: 0.8226 - val_accuracy: 0.7910\n",
      "Epoch 76/200\n",
      "42000/42000 [==============================] - 15s 350us/sample - loss: 1.1816 - accuracy: 0.6386 - val_loss: 0.8495 - val_accuracy: 0.7923\n",
      "Epoch 77/200\n",
      "42000/42000 [==============================] - 15s 345us/sample - loss: 1.1729 - accuracy: 0.6399 - val_loss: 0.7982 - val_accuracy: 0.7975\n",
      "Epoch 78/200\n",
      "42000/42000 [==============================] - 14s 337us/sample - loss: 1.1761 - accuracy: 0.6378 - val_loss: 0.8431 - val_accuracy: 0.7930\n",
      "Epoch 79/200\n",
      "42000/42000 [==============================] - 14s 330us/sample - loss: 1.1740 - accuracy: 0.6425 - val_loss: 0.8125 - val_accuracy: 0.7989\n",
      "Epoch 80/200\n",
      "42000/42000 [==============================] - 13s 320us/sample - loss: 1.1798 - accuracy: 0.6376 - val_loss: 0.8456 - val_accuracy: 0.7904\n",
      "Epoch 81/200\n",
      "42000/42000 [==============================] - 14s 324us/sample - loss: 1.1765 - accuracy: 0.6385 - val_loss: 0.8544 - val_accuracy: 0.7943\n",
      "Epoch 82/200\n",
      "42000/42000 [==============================] - 14s 336us/sample - loss: 1.1771 - accuracy: 0.6370 - val_loss: 0.7954 - val_accuracy: 0.8016\n",
      "Epoch 83/200\n",
      "42000/42000 [==============================] - 14s 335us/sample - loss: 1.1853 - accuracy: 0.6396 - val_loss: 0.8390 - val_accuracy: 0.7958\n",
      "Epoch 84/200\n",
      "42000/42000 [==============================] - 14s 323us/sample - loss: 1.1909 - accuracy: 0.6339 - val_loss: 0.8224 - val_accuracy: 0.7913\n",
      "Epoch 85/200\n",
      "42000/42000 [==============================] - 14s 323us/sample - loss: 1.1751 - accuracy: 0.6396 - val_loss: 0.8138 - val_accuracy: 0.7952\n",
      "Epoch 86/200\n",
      "42000/42000 [==============================] - 13s 318us/sample - loss: 1.1660 - accuracy: 0.6414 - val_loss: 0.7989 - val_accuracy: 0.7983\n",
      "Epoch 87/200\n",
      "42000/42000 [==============================] - 15s 363us/sample - loss: 1.1557 - accuracy: 0.6457 - val_loss: 0.8058 - val_accuracy: 0.8024\n",
      "Epoch 88/200\n",
      "42000/42000 [==============================] - 14s 328us/sample - loss: 1.1789 - accuracy: 0.6389 - val_loss: 0.8111 - val_accuracy: 0.8011\n",
      "Epoch 89/200\n",
      "42000/42000 [==============================] - 14s 323us/sample - loss: 1.1662 - accuracy: 0.6410 - val_loss: 0.8336 - val_accuracy: 0.7967\n",
      "Epoch 90/200\n",
      "42000/42000 [==============================] - 14s 324us/sample - loss: 1.1767 - accuracy: 0.6374 - val_loss: 0.8561 - val_accuracy: 0.8013\n",
      "Epoch 91/200\n",
      "42000/42000 [==============================] - 14s 332us/sample - loss: 1.1757 - accuracy: 0.6386 - val_loss: 0.8415 - val_accuracy: 0.8007\n",
      "Epoch 92/200\n",
      "42000/42000 [==============================] - 14s 332us/sample - loss: 1.1641 - accuracy: 0.6406 - val_loss: 0.8058 - val_accuracy: 0.7983\n",
      "Epoch 93/200\n",
      "42000/42000 [==============================] - 14s 327us/sample - loss: 1.1625 - accuracy: 0.6432 - val_loss: 0.8183 - val_accuracy: 0.8001\n",
      "Epoch 94/200\n",
      "42000/42000 [==============================] - 14s 324us/sample - loss: 1.1620 - accuracy: 0.6434 - val_loss: 0.7989 - val_accuracy: 0.8018\n",
      "Epoch 95/200\n",
      "42000/42000 [==============================] - 14s 327us/sample - loss: 1.1582 - accuracy: 0.6444 - val_loss: 0.7851 - val_accuracy: 0.8009\n",
      "Epoch 96/200\n",
      "42000/42000 [==============================] - 14s 336us/sample - loss: 1.1656 - accuracy: 0.6427 - val_loss: 0.8004 - val_accuracy: 0.8017\n",
      "Epoch 97/200\n",
      "42000/42000 [==============================] - 13s 321us/sample - loss: 1.1617 - accuracy: 0.6447 - val_loss: 0.7828 - val_accuracy: 0.8058\n",
      "Epoch 98/200\n",
      "42000/42000 [==============================] - 14s 328us/sample - loss: 1.1569 - accuracy: 0.6446 - val_loss: 0.7956 - val_accuracy: 0.8082\n",
      "Epoch 99/200\n",
      "42000/42000 [==============================] - 14s 325us/sample - loss: 1.1470 - accuracy: 0.6495 - val_loss: 0.7874 - val_accuracy: 0.8056\n",
      "Epoch 100/200\n",
      "42000/42000 [==============================] - 14s 339us/sample - loss: 1.1403 - accuracy: 0.6528 - val_loss: 0.8041 - val_accuracy: 0.8037\n",
      "Epoch 101/200\n",
      "42000/42000 [==============================] - 14s 322us/sample - loss: 1.1445 - accuracy: 0.6501 - val_loss: 0.7944 - val_accuracy: 0.8028\n",
      "Epoch 102/200\n",
      "42000/42000 [==============================] - 13s 316us/sample - loss: 1.1598 - accuracy: 0.6433 - val_loss: 0.8322 - val_accuracy: 0.7986\n",
      "Epoch 103/200\n",
      "42000/42000 [==============================] - 13s 318us/sample - loss: 1.1686 - accuracy: 0.6405 - val_loss: 0.8049 - val_accuracy: 0.8067\n",
      "Epoch 104/200\n",
      "42000/42000 [==============================] - 14s 331us/sample - loss: 1.1469 - accuracy: 0.6483 - val_loss: 0.7951 - val_accuracy: 0.8054\n",
      "Epoch 105/200\n",
      "42000/42000 [==============================] - 14s 339us/sample - loss: 1.1561 - accuracy: 0.6451 - val_loss: 0.7851 - val_accuracy: 0.8070\n",
      "Epoch 106/200\n",
      "42000/42000 [==============================] - 13s 321us/sample - loss: 1.1428 - accuracy: 0.6515 - val_loss: 0.7759 - val_accuracy: 0.8067\n",
      "Epoch 107/200\n",
      "42000/42000 [==============================] - 13s 317us/sample - loss: 1.1415 - accuracy: 0.6486 - val_loss: 0.7956 - val_accuracy: 0.8066\n",
      "Epoch 108/200\n",
      "42000/42000 [==============================] - 13s 320us/sample - loss: 1.1361 - accuracy: 0.6513 - val_loss: 0.7793 - val_accuracy: 0.8077\n",
      "Epoch 109/200\n",
      "42000/42000 [==============================] - 15s 346us/sample - loss: 1.1448 - accuracy: 0.6505 - val_loss: 0.8144 - val_accuracy: 0.8031\n",
      "Epoch 110/200\n",
      "42000/42000 [==============================] - 14s 326us/sample - loss: 1.1411 - accuracy: 0.6504 - val_loss: 0.7969 - val_accuracy: 0.8062\n",
      "Epoch 111/200\n",
      "42000/42000 [==============================] - 14s 322us/sample - loss: 1.1374 - accuracy: 0.6500 - val_loss: 0.7933 - val_accuracy: 0.8059\n",
      "Epoch 112/200\n",
      "42000/42000 [==============================] - 13s 319us/sample - loss: 1.1442 - accuracy: 0.6493 - val_loss: 0.7928 - val_accuracy: 0.8081\n",
      "Epoch 113/200\n",
      "42000/42000 [==============================] - 14s 327us/sample - loss: 1.1470 - accuracy: 0.6494 - val_loss: 0.8234 - val_accuracy: 0.8038\n",
      "Epoch 114/200\n",
      "42000/42000 [==============================] - 14s 328us/sample - loss: 1.1404 - accuracy: 0.6509 - val_loss: 0.7901 - val_accuracy: 0.8109\n",
      "Epoch 115/200\n",
      "42000/42000 [==============================] - 13s 312us/sample - loss: 1.1367 - accuracy: 0.6542 - val_loss: 0.7579 - val_accuracy: 0.8090\n",
      "Epoch 116/200\n",
      "42000/42000 [==============================] - 14s 322us/sample - loss: 1.1387 - accuracy: 0.6533 - val_loss: 0.7849 - val_accuracy: 0.8054\n",
      "Epoch 117/200\n",
      "42000/42000 [==============================] - 14s 325us/sample - loss: 1.1267 - accuracy: 0.6548 - val_loss: 0.7596 - val_accuracy: 0.8106\n",
      "Epoch 118/200\n",
      "42000/42000 [==============================] - 14s 330us/sample - loss: 1.1328 - accuracy: 0.6553 - val_loss: 0.7912 - val_accuracy: 0.8053\n",
      "Epoch 119/200\n",
      "42000/42000 [==============================] - 13s 315us/sample - loss: 1.1353 - accuracy: 0.6553 - val_loss: 0.7520 - val_accuracy: 0.8116\n",
      "Epoch 120/200\n",
      "42000/42000 [==============================] - 13s 319us/sample - loss: 1.1246 - accuracy: 0.6589 - val_loss: 0.7766 - val_accuracy: 0.8088\n",
      "Epoch 121/200\n",
      "42000/42000 [==============================] - 13s 315us/sample - loss: 1.1379 - accuracy: 0.6494 - val_loss: 0.7524 - val_accuracy: 0.8109\n",
      "Epoch 122/200\n",
      "42000/42000 [==============================] - 14s 335us/sample - loss: 1.1295 - accuracy: 0.6574 - val_loss: 0.7462 - val_accuracy: 0.8118\n",
      "Epoch 123/200\n",
      "42000/42000 [==============================] - 14s 325us/sample - loss: 1.1283 - accuracy: 0.6553 - val_loss: 0.7561 - val_accuracy: 0.8083\n",
      "Epoch 124/200\n",
      "42000/42000 [==============================] - 13s 313us/sample - loss: 1.1347 - accuracy: 0.6543 - val_loss: 0.7870 - val_accuracy: 0.8073\n",
      "Epoch 125/200\n",
      "42000/42000 [==============================] - 13s 316us/sample - loss: 1.1233 - accuracy: 0.6542 - val_loss: 0.7722 - val_accuracy: 0.8089\n",
      "Epoch 126/200\n",
      "42000/42000 [==============================] - 13s 321us/sample - loss: 1.1296 - accuracy: 0.6583 - val_loss: 0.7896 - val_accuracy: 0.8059\n",
      "Epoch 127/200\n",
      "42000/42000 [==============================] - 14s 331us/sample - loss: 1.1236 - accuracy: 0.6566 - val_loss: 0.7623 - val_accuracy: 0.8154\n",
      "Epoch 128/200\n",
      "42000/42000 [==============================] - 13s 315us/sample - loss: 1.1206 - accuracy: 0.6580 - val_loss: 0.7563 - val_accuracy: 0.8115\n",
      "Epoch 129/200\n",
      "42000/42000 [==============================] - 14s 324us/sample - loss: 1.1156 - accuracy: 0.6617 - val_loss: 0.7544 - val_accuracy: 0.8094\n",
      "Epoch 130/200\n",
      "42000/42000 [==============================] - 13s 314us/sample - loss: 1.1170 - accuracy: 0.6587 - val_loss: 0.7837 - val_accuracy: 0.8112\n",
      "Epoch 131/200\n",
      "42000/42000 [==============================] - 14s 330us/sample - loss: 1.1211 - accuracy: 0.6592 - val_loss: 0.7407 - val_accuracy: 0.8106\n",
      "Epoch 132/200\n",
      "42000/42000 [==============================] - 14s 324us/sample - loss: 1.1166 - accuracy: 0.6611 - val_loss: 0.7759 - val_accuracy: 0.8121\n",
      "Epoch 133/200\n",
      "42000/42000 [==============================] - 13s 316us/sample - loss: 1.1073 - accuracy: 0.6642 - val_loss: 0.8194 - val_accuracy: 0.8073\n",
      "Epoch 134/200\n",
      "42000/42000 [==============================] - 13s 313us/sample - loss: 1.1200 - accuracy: 0.6576 - val_loss: 0.7466 - val_accuracy: 0.8149\n",
      "Epoch 135/200\n",
      "42000/42000 [==============================] - 14s 334us/sample - loss: 1.1198 - accuracy: 0.6582 - val_loss: 0.7892 - val_accuracy: 0.8104\n",
      "Epoch 136/200\n",
      "42000/42000 [==============================] - 14s 323us/sample - loss: 1.1185 - accuracy: 0.6590 - val_loss: 0.7604 - val_accuracy: 0.8154\n",
      "Epoch 137/200\n",
      "42000/42000 [==============================] - 13s 305us/sample - loss: 1.1222 - accuracy: 0.6573 - val_loss: 0.7597 - val_accuracy: 0.8126\n",
      "Epoch 138/200\n",
      "42000/42000 [==============================] - 13s 308us/sample - loss: 1.1178 - accuracy: 0.6605 - val_loss: 0.7889 - val_accuracy: 0.8152\n",
      "Epoch 139/200\n",
      "42000/42000 [==============================] - 13s 310us/sample - loss: 1.1189 - accuracy: 0.6605 - val_loss: 0.7894 - val_accuracy: 0.8116\n",
      "Epoch 140/200\n",
      "42000/42000 [==============================] - 14s 328us/sample - loss: 1.1038 - accuracy: 0.6650 - val_loss: 0.7768 - val_accuracy: 0.8117\n",
      "Epoch 141/200\n",
      "42000/42000 [==============================] - 14s 322us/sample - loss: 1.1168 - accuracy: 0.6598 - val_loss: 0.7618 - val_accuracy: 0.8126\n",
      "Epoch 142/200\n",
      "42000/42000 [==============================] - 13s 310us/sample - loss: 1.1262 - accuracy: 0.6568 - val_loss: 0.7826 - val_accuracy: 0.8100\n",
      "Epoch 143/200\n",
      "42000/42000 [==============================] - 13s 317us/sample - loss: 1.1212 - accuracy: 0.6577 - val_loss: 0.7772 - val_accuracy: 0.8099\n",
      "Epoch 144/200\n",
      "42000/42000 [==============================] - 13s 316us/sample - loss: 1.1113 - accuracy: 0.6589 - val_loss: 0.7596 - val_accuracy: 0.8135\n",
      "Epoch 145/200\n",
      "42000/42000 [==============================] - 14s 324us/sample - loss: 1.1139 - accuracy: 0.6603 - val_loss: 0.7783 - val_accuracy: 0.8122\n",
      "Epoch 146/200\n",
      "42000/42000 [==============================] - 13s 310us/sample - loss: 1.1115 - accuracy: 0.6620 - val_loss: 0.7595 - val_accuracy: 0.8136\n",
      "Epoch 147/200\n",
      "42000/42000 [==============================] - 13s 313us/sample - loss: 1.0988 - accuracy: 0.6654 - val_loss: 0.7628 - val_accuracy: 0.8131\n",
      "Epoch 148/200\n",
      "42000/42000 [==============================] - 13s 308us/sample - loss: 1.1049 - accuracy: 0.6644 - val_loss: 0.7322 - val_accuracy: 0.8181\n",
      "Epoch 149/200\n",
      "42000/42000 [==============================] - 14s 323us/sample - loss: 1.1030 - accuracy: 0.6657 - val_loss: 0.7849 - val_accuracy: 0.8125\n",
      "Epoch 150/200\n",
      "42000/42000 [==============================] - 13s 313us/sample - loss: 1.1093 - accuracy: 0.6648 - val_loss: 0.7489 - val_accuracy: 0.8128\n",
      "Epoch 151/200\n",
      "42000/42000 [==============================] - 13s 309us/sample - loss: 1.0970 - accuracy: 0.6670 - val_loss: 0.7407 - val_accuracy: 0.8163\n",
      "Epoch 152/200\n",
      "42000/42000 [==============================] - 13s 305us/sample - loss: 1.1147 - accuracy: 0.6619 - val_loss: 0.7714 - val_accuracy: 0.8127\n",
      "Epoch 153/200\n",
      "42000/42000 [==============================] - 13s 320us/sample - loss: 1.1089 - accuracy: 0.6623 - val_loss: 0.7617 - val_accuracy: 0.8122\n",
      "Epoch 154/200\n",
      "42000/42000 [==============================] - 14s 323us/sample - loss: 1.1043 - accuracy: 0.6640 - val_loss: 0.7528 - val_accuracy: 0.8182\n",
      "Epoch 155/200\n",
      "42000/42000 [==============================] - 13s 312us/sample - loss: 1.1177 - accuracy: 0.6598 - val_loss: 0.8052 - val_accuracy: 0.8093\n",
      "Epoch 156/200\n",
      "42000/42000 [==============================] - 13s 319us/sample - loss: 1.1081 - accuracy: 0.6624 - val_loss: 0.7326 - val_accuracy: 0.8167\n",
      "Epoch 157/200\n",
      "42000/42000 [==============================] - 13s 301us/sample - loss: 1.0997 - accuracy: 0.6672 - val_loss: 0.7541 - val_accuracy: 0.8143\n",
      "Epoch 158/200\n",
      "42000/42000 [==============================] - 14s 334us/sample - loss: 1.0850 - accuracy: 0.6722 - val_loss: 0.7579 - val_accuracy: 0.8159\n",
      "Epoch 159/200\n",
      "42000/42000 [==============================] - 13s 318us/sample - loss: 1.1012 - accuracy: 0.6668 - val_loss: 0.7388 - val_accuracy: 0.8136\n",
      "Epoch 160/200\n",
      "42000/42000 [==============================] - 13s 307us/sample - loss: 1.0963 - accuracy: 0.6672 - val_loss: 0.7504 - val_accuracy: 0.8188\n",
      "Epoch 161/200\n",
      "42000/42000 [==============================] - 13s 305us/sample - loss: 1.1002 - accuracy: 0.6670 - val_loss: 0.7444 - val_accuracy: 0.8151\n",
      "Epoch 162/200\n",
      "42000/42000 [==============================] - 13s 309us/sample - loss: 1.1108 - accuracy: 0.6616 - val_loss: 0.7444 - val_accuracy: 0.8192\n",
      "Epoch 163/200\n",
      "42000/42000 [==============================] - 13s 321us/sample - loss: 1.1048 - accuracy: 0.6638 - val_loss: 0.7603 - val_accuracy: 0.8181\n",
      "Epoch 164/200\n",
      "42000/42000 [==============================] - 13s 304us/sample - loss: 1.1063 - accuracy: 0.6637 - val_loss: 0.7427 - val_accuracy: 0.8156\n",
      "Epoch 165/200\n",
      "42000/42000 [==============================] - 13s 309us/sample - loss: 1.0983 - accuracy: 0.6708 - val_loss: 0.7393 - val_accuracy: 0.8205\n",
      "Epoch 166/200\n",
      "42000/42000 [==============================] - 12s 297us/sample - loss: 1.0961 - accuracy: 0.6662 - val_loss: 0.7445 - val_accuracy: 0.8191\n",
      "Epoch 167/200\n",
      "42000/42000 [==============================] - 13s 310us/sample - loss: 1.1001 - accuracy: 0.6656 - val_loss: 0.7360 - val_accuracy: 0.8163\n",
      "Epoch 168/200\n",
      "42000/42000 [==============================] - 13s 312us/sample - loss: 1.1009 - accuracy: 0.6660 - val_loss: 0.7175 - val_accuracy: 0.8154\n",
      "Epoch 169/200\n",
      "42000/42000 [==============================] - 13s 299us/sample - loss: 1.0983 - accuracy: 0.6689 - val_loss: 0.7332 - val_accuracy: 0.8199\n",
      "Epoch 170/200\n",
      "42000/42000 [==============================] - 13s 302us/sample - loss: 1.0967 - accuracy: 0.6669 - val_loss: 0.7479 - val_accuracy: 0.8118\n",
      "Epoch 171/200\n",
      "42000/42000 [==============================] - 13s 303us/sample - loss: 1.0983 - accuracy: 0.6675 - val_loss: 0.7341 - val_accuracy: 0.8202\n",
      "Epoch 172/200\n",
      "42000/42000 [==============================] - 14s 325us/sample - loss: 1.0924 - accuracy: 0.6676 - val_loss: 0.7569 - val_accuracy: 0.8201\n",
      "Epoch 173/200\n",
      "42000/42000 [==============================] - 13s 309us/sample - loss: 1.0884 - accuracy: 0.6694 - val_loss: 0.7258 - val_accuracy: 0.8198\n",
      "Epoch 174/200\n",
      "42000/42000 [==============================] - 13s 302us/sample - loss: 1.0911 - accuracy: 0.6685 - val_loss: 0.7617 - val_accuracy: 0.8173\n",
      "Epoch 175/200\n",
      "42000/42000 [==============================] - 13s 308us/sample - loss: 1.0971 - accuracy: 0.6661 - val_loss: 0.7592 - val_accuracy: 0.8152\n",
      "Epoch 176/200\n",
      "42000/42000 [==============================] - 13s 308us/sample - loss: 1.0953 - accuracy: 0.6665 - val_loss: 0.7642 - val_accuracy: 0.8090\n",
      "Epoch 177/200\n",
      "42000/42000 [==============================] - 14s 327us/sample - loss: 1.0926 - accuracy: 0.6701 - val_loss: 0.7225 - val_accuracy: 0.8194\n",
      "Epoch 178/200\n",
      "42000/42000 [==============================] - 13s 305us/sample - loss: 1.0830 - accuracy: 0.6725 - val_loss: 0.7543 - val_accuracy: 0.8159\n",
      "Epoch 179/200\n",
      "42000/42000 [==============================] - 13s 305us/sample - loss: 1.1020 - accuracy: 0.6644 - val_loss: 0.7510 - val_accuracy: 0.8163\n",
      "Epoch 180/200\n",
      "42000/42000 [==============================] - 13s 314us/sample - loss: 1.0914 - accuracy: 0.6693 - val_loss: 0.7302 - val_accuracy: 0.8197\n",
      "Epoch 181/200\n",
      "42000/42000 [==============================] - 14s 322us/sample - loss: 1.0920 - accuracy: 0.6682 - val_loss: 0.7691 - val_accuracy: 0.8150\n",
      "Epoch 182/200\n",
      "42000/42000 [==============================] - 14s 324us/sample - loss: 1.0862 - accuracy: 0.6709 - val_loss: 0.7359 - val_accuracy: 0.8194\n",
      "Epoch 183/200\n",
      "42000/42000 [==============================] - 13s 303us/sample - loss: 1.0971 - accuracy: 0.6690 - val_loss: 0.7235 - val_accuracy: 0.8190\n",
      "Epoch 184/200\n",
      "42000/42000 [==============================] - 13s 309us/sample - loss: 1.0911 - accuracy: 0.6695 - val_loss: 0.7198 - val_accuracy: 0.8216\n",
      "Epoch 185/200\n",
      "42000/42000 [==============================] - 13s 311us/sample - loss: 1.0810 - accuracy: 0.6730 - val_loss: 0.7406 - val_accuracy: 0.8186\n",
      "Epoch 186/200\n",
      "42000/42000 [==============================] - 14s 322us/sample - loss: 1.0874 - accuracy: 0.6733 - val_loss: 0.7242 - val_accuracy: 0.8205\n",
      "Epoch 187/200\n",
      "42000/42000 [==============================] - 13s 300us/sample - loss: 1.0735 - accuracy: 0.6727 - val_loss: 0.7433 - val_accuracy: 0.8182\n",
      "Epoch 188/200\n",
      "42000/42000 [==============================] - 13s 305us/sample - loss: 1.0740 - accuracy: 0.6754 - val_loss: 0.7138 - val_accuracy: 0.8236\n",
      "Epoch 189/200\n",
      "42000/42000 [==============================] - 13s 304us/sample - loss: 1.0859 - accuracy: 0.6715 - val_loss: 0.7272 - val_accuracy: 0.8200\n",
      "Epoch 190/200\n",
      "42000/42000 [==============================] - 14s 322us/sample - loss: 1.0840 - accuracy: 0.6705 - val_loss: 0.7483 - val_accuracy: 0.8232\n",
      "Epoch 191/200\n",
      "42000/42000 [==============================] - 13s 316us/sample - loss: 1.0854 - accuracy: 0.6706 - val_loss: 0.7465 - val_accuracy: 0.8179\n",
      "Epoch 192/200\n",
      "42000/42000 [==============================] - 13s 306us/sample - loss: 1.0808 - accuracy: 0.6709 - val_loss: 0.7356 - val_accuracy: 0.8225\n",
      "Epoch 193/200\n",
      "42000/42000 [==============================] - 13s 299us/sample - loss: 1.0760 - accuracy: 0.6707 - val_loss: 0.7639 - val_accuracy: 0.8137\n",
      "Epoch 194/200\n",
      "42000/42000 [==============================] - 13s 301us/sample - loss: 1.0824 - accuracy: 0.6721 - val_loss: 0.7571 - val_accuracy: 0.8188\n",
      "Epoch 195/200\n",
      "42000/42000 [==============================] - 14s 324us/sample - loss: 1.0947 - accuracy: 0.6667 - val_loss: 0.7137 - val_accuracy: 0.8229\n",
      "Epoch 196/200\n",
      "42000/42000 [==============================] - 13s 313us/sample - loss: 1.0686 - accuracy: 0.6778 - val_loss: 0.7319 - val_accuracy: 0.8182\n",
      "Epoch 197/200\n",
      "42000/42000 [==============================] - 13s 304us/sample - loss: 1.0712 - accuracy: 0.6752 - val_loss: 0.7264 - val_accuracy: 0.8228\n",
      "Epoch 198/200\n",
      "42000/42000 [==============================] - 13s 305us/sample - loss: 1.0759 - accuracy: 0.6744 - val_loss: 0.7112 - val_accuracy: 0.8248\n",
      "Epoch 199/200\n",
      "42000/42000 [==============================] - 13s 307us/sample - loss: 1.0762 - accuracy: 0.6750 - val_loss: 0.7199 - val_accuracy: 0.8231\n",
      "Epoch 200/200\n",
      "42000/42000 [==============================] - 14s 327us/sample - loss: 1.0774 - accuracy: 0.6741 - val_loss: 0.7221 - val_accuracy: 0.8209\n"
     ]
    },
    {
     "ename": "AttributeError",
     "evalue": "ignored",
     "output_type": "error",
     "traceback": [
      "\u001b[0;31m---------------------------------------------------------------------------\u001b[0m",
      "\u001b[0;31mAttributeError\u001b[0m                            Traceback (most recent call last)",
      "\u001b[0;32m<ipython-input-36-eb8fc06fe588>\u001b[0m in \u001b[0;36m<module>\u001b[0;34m()\u001b[0m\n\u001b[1;32m      2\u001b[0m \u001b[0;34m\u001b[0m\u001b[0m\n\u001b[1;32m      3\u001b[0m \u001b[0;31m# Plot training & validation accuracy values\u001b[0m\u001b[0;34m\u001b[0m\u001b[0;34m\u001b[0m\u001b[0;34m\u001b[0m\u001b[0m\n\u001b[0;32m----> 4\u001b[0;31m \u001b[0mplt\u001b[0m\u001b[0;34m.\u001b[0m\u001b[0mplot\u001b[0m\u001b[0;34m(\u001b[0m\u001b[0mhistory\u001b[0m\u001b[0;34m.\u001b[0m\u001b[0mhistory2\u001b[0m\u001b[0;34m[\u001b[0m\u001b[0;34m'accuracy'\u001b[0m\u001b[0;34m]\u001b[0m\u001b[0;34m)\u001b[0m\u001b[0;34m\u001b[0m\u001b[0;34m\u001b[0m\u001b[0m\n\u001b[0m\u001b[1;32m      5\u001b[0m \u001b[0mplt\u001b[0m\u001b[0;34m.\u001b[0m\u001b[0mplot\u001b[0m\u001b[0;34m(\u001b[0m\u001b[0mhistory\u001b[0m\u001b[0;34m.\u001b[0m\u001b[0mhistory2\u001b[0m\u001b[0;34m[\u001b[0m\u001b[0;34m'val_accuracy'\u001b[0m\u001b[0;34m]\u001b[0m\u001b[0;34m)\u001b[0m\u001b[0;34m\u001b[0m\u001b[0;34m\u001b[0m\u001b[0m\n\u001b[1;32m      6\u001b[0m \u001b[0mplt\u001b[0m\u001b[0;34m.\u001b[0m\u001b[0mtitle\u001b[0m\u001b[0;34m(\u001b[0m\u001b[0;34m'Model accuracy'\u001b[0m\u001b[0;34m)\u001b[0m\u001b[0;34m\u001b[0m\u001b[0;34m\u001b[0m\u001b[0m\n",
      "\u001b[0;31mAttributeError\u001b[0m: 'History' object has no attribute 'history2'"
     ]
    }
   ],
   "source": [
    "history2 = m2.fit(X_train, y_train1, validation_data=(X_test, y_test1), epochs=200, batch_size=32)\n",
    "\n"
   ]
  },
  {
   "cell_type": "code",
   "execution_count": 38,
   "metadata": {
    "colab": {
     "base_uri": "https://localhost:8080/",
     "height": 573
    },
    "colab_type": "code",
    "id": "5jxncUdYfOvW",
    "outputId": "f130fdc5-60c0-431e-b8c8-df1c9c6eaf4f"
   },
   "outputs": [
    {
     "data": {
      "image/png": "[encoded data removed]",
      "text/plain": [
       "<Figure size 432x288 with 1 Axes>"
      ]
     },
     "metadata": {
      "tags": []
     },
     "output_type": "display_data"
    },
    {
     "data": {
      "image/png": "[encoded data removed]",
      "text/plain": [
       "<Figure size 432x288 with 1 Axes>"
      ]
     },
     "metadata": {
      "tags": []
     },
     "output_type": "display_data"
    }
   ],
   "source": [
    "# Plot training & validation accuracy values\n",
    "plt.plot(history2.history['accuracy'])\n",
    "plt.plot(history2.history['val_accuracy'])\n",
    "plt.title('Model accuracy')\n",
    "plt.ylabel('Accuracy')\n",
    "plt.xlabel('Epoch')\n",
    "plt.legend(['Train', 'Test'], loc='upper left')\n",
    "plt.show()\n",
    "\n",
    "# Plot training & validation loss values\n",
    "plt.plot(history2.history['loss'])\n",
    "plt.plot(history2.history['val_loss'])\n",
    "plt.title('Model loss')\n",
    "plt.ylabel('Loss')\n",
    "plt.xlabel('Epoch')\n",
    "plt.legend(['Train', 'Test'], loc='upper left')\n",
    "plt.show()"
   ]
  },
  {
   "cell_type": "code",
   "execution_count": 0,
   "metadata": {
    "colab": {},
    "colab_type": "code",
    "id": "CsLa_I_6TLgk"
   },
   "outputs": [],
   "source": [
    "m3=tf.keras.models.Sequential()\n",
    "m3.add(tf.keras.layers.Reshape((1024,), input_shape=(32,32,)))\n",
    "m3.add(tf.keras.layers.BatchNormalization())\n",
    "lrelu=tf.keras.layers.LeakyReLU(alpha=0.3)\n",
    "m3.add(tf.keras.layers.Dense(1024, activation=lrelu))\n",
    "m3.add(tf.keras.layers.Dense(512, activation=lrelu))\n",
    "m3.add(tf.keras.layers.Dense(512, activation=lrelu))\n",
    "m3.add(tf.keras.layers.BatchNormalization())\n",
    "m3.add(tf.keras.layers.Dense(128, activation=lrelu))\n",
    "m3.add(tf.keras.layers.BatchNormalization())\n",
    "m3.add(tf.keras.layers.Dense(32, activation=lrelu))\n",
    "m3.add(tf.keras.layers.Dense(10, activation='softmax'))\n",
    "m3.compile(optimizer='Nadam', loss='categorical_crossentropy', metrics=['accuracy'])"
   ]
  },
  {
   "cell_type": "code",
   "execution_count": 0,
   "metadata": {
    "colab": {
     "base_uri": "https://localhost:8080/",
     "height": 1000
    },
    "colab_type": "code",
    "id": "bW4LIXCXfBKv",
    "outputId": "c3971cba-debd-48a0-a705-12dac8db9f1a"
   },
   "outputs": [
    {
     "name": "stdout",
     "output_type": "stream",
     "text": [
      "Train on 42000 samples, validate on 18000 samples\n",
      "Epoch 1/200\n",
      "42000/42000 [==============================] - 58s 1ms/sample - loss: 1.3406 - accuracy: 0.5622 - val_loss: 1.1982 - val_accuracy: 0.6303\n",
      "Epoch 2/200\n",
      "42000/42000 [==============================] - 55s 1ms/sample - loss: 0.9767 - accuracy: 0.6934 - val_loss: 0.8175 - val_accuracy: 0.7502\n",
      "Epoch 3/200\n",
      "42000/42000 [==============================] - 55s 1ms/sample - loss: 0.8595 - accuracy: 0.7286 - val_loss: 0.6973 - val_accuracy: 0.7916\n",
      "Epoch 4/200\n",
      "42000/42000 [==============================] - 58s 1ms/sample - loss: 0.7799 - accuracy: 0.7543 - val_loss: 0.6493 - val_accuracy: 0.8023\n",
      "Epoch 5/200\n",
      "42000/42000 [==============================] - 58s 1ms/sample - loss: 0.7336 - accuracy: 0.7698 - val_loss: 0.6467 - val_accuracy: 0.8023\n",
      "Epoch 6/200\n",
      "42000/42000 [==============================] - 58s 1ms/sample - loss: 0.6944 - accuracy: 0.7817 - val_loss: 0.6161 - val_accuracy: 0.8139\n",
      "Epoch 7/200\n",
      "42000/42000 [==============================] - 56s 1ms/sample - loss: 0.6620 - accuracy: 0.7917 - val_loss: 0.6086 - val_accuracy: 0.8140\n",
      "Epoch 8/200\n",
      "42000/42000 [==============================] - 55s 1ms/sample - loss: 0.6330 - accuracy: 0.7974 - val_loss: 0.5625 - val_accuracy: 0.8340\n",
      "Epoch 9/200\n",
      "42000/42000 [==============================] - 55s 1ms/sample - loss: 0.6079 - accuracy: 0.8086 - val_loss: 0.5463 - val_accuracy: 0.8363\n",
      "Epoch 10/200\n",
      "42000/42000 [==============================] - 55s 1ms/sample - loss: 0.5947 - accuracy: 0.8111 - val_loss: 0.5449 - val_accuracy: 0.8377\n",
      "Epoch 11/200\n",
      "42000/42000 [==============================] - 55s 1ms/sample - loss: 0.5730 - accuracy: 0.8177 - val_loss: 0.5264 - val_accuracy: 0.8451\n",
      "Epoch 12/200\n",
      "42000/42000 [==============================] - 54s 1ms/sample - loss: 0.5560 - accuracy: 0.8244 - val_loss: 0.5210 - val_accuracy: 0.8437\n",
      "Epoch 13/200\n",
      "42000/42000 [==============================] - 55s 1ms/sample - loss: 0.5448 - accuracy: 0.8279 - val_loss: 0.5217 - val_accuracy: 0.8452\n",
      "Epoch 14/200\n",
      "42000/42000 [==============================] - 54s 1ms/sample - loss: 0.5286 - accuracy: 0.8324 - val_loss: 0.5074 - val_accuracy: 0.8468\n",
      "Epoch 15/200\n",
      "42000/42000 [==============================] - 55s 1ms/sample - loss: 0.5124 - accuracy: 0.8354 - val_loss: 0.5071 - val_accuracy: 0.8498\n",
      "Epoch 16/200\n",
      "42000/42000 [==============================] - 54s 1ms/sample - loss: 0.5001 - accuracy: 0.8396 - val_loss: 0.4927 - val_accuracy: 0.8503\n",
      "Epoch 17/200\n",
      "42000/42000 [==============================] - 54s 1ms/sample - loss: 0.4910 - accuracy: 0.8430 - val_loss: 0.4661 - val_accuracy: 0.8629\n",
      "Epoch 18/200\n",
      "42000/42000 [==============================] - 54s 1ms/sample - loss: 0.4757 - accuracy: 0.8460 - val_loss: 0.4834 - val_accuracy: 0.8552\n",
      "Epoch 19/200\n",
      "42000/42000 [==============================] - 55s 1ms/sample - loss: 0.4693 - accuracy: 0.8492 - val_loss: 0.4814 - val_accuracy: 0.8559\n",
      "Epoch 20/200\n",
      "42000/42000 [==============================] - 54s 1ms/sample - loss: 0.4601 - accuracy: 0.8532 - val_loss: 0.4642 - val_accuracy: 0.8659\n",
      "Epoch 21/200\n",
      "42000/42000 [==============================] - 55s 1ms/sample - loss: 0.4551 - accuracy: 0.8539 - val_loss: 0.4715 - val_accuracy: 0.8607\n",
      "Epoch 22/200\n",
      "42000/42000 [==============================] - 55s 1ms/sample - loss: 0.4407 - accuracy: 0.8585 - val_loss: 0.4699 - val_accuracy: 0.8618\n",
      "Epoch 23/200\n",
      "42000/42000 [==============================] - 54s 1ms/sample - loss: 0.4369 - accuracy: 0.8594 - val_loss: 0.4740 - val_accuracy: 0.8628\n",
      "Epoch 24/200\n",
      "42000/42000 [==============================] - 54s 1ms/sample - loss: 0.4237 - accuracy: 0.8645 - val_loss: 0.4692 - val_accuracy: 0.8622\n",
      "Epoch 25/200\n",
      "42000/42000 [==============================] - 54s 1ms/sample - loss: 0.4242 - accuracy: 0.8625 - val_loss: 0.4679 - val_accuracy: 0.8611\n",
      "Epoch 26/200\n",
      "42000/42000 [==============================] - 54s 1ms/sample - loss: 0.4152 - accuracy: 0.8676 - val_loss: 0.4598 - val_accuracy: 0.8665\n",
      "Epoch 27/200\n",
      "42000/42000 [==============================] - 54s 1ms/sample - loss: 0.4092 - accuracy: 0.8687 - val_loss: 0.4597 - val_accuracy: 0.8669\n",
      "Epoch 28/200\n",
      "42000/42000 [==============================] - 54s 1ms/sample - loss: 0.3989 - accuracy: 0.8711 - val_loss: 0.4787 - val_accuracy: 0.8618\n",
      "Epoch 29/200\n",
      "42000/42000 [==============================] - 54s 1ms/sample - loss: 0.3919 - accuracy: 0.8737 - val_loss: 0.4576 - val_accuracy: 0.8655\n",
      "Epoch 30/200\n",
      "42000/42000 [==============================] - 55s 1ms/sample - loss: 0.3878 - accuracy: 0.8733 - val_loss: 0.4682 - val_accuracy: 0.8678\n",
      "Epoch 31/200\n",
      "42000/42000 [==============================] - 55s 1ms/sample - loss: 0.3850 - accuracy: 0.8748 - val_loss: 0.4614 - val_accuracy: 0.8659\n",
      "Epoch 32/200\n",
      "42000/42000 [==============================] - 55s 1ms/sample - loss: 0.3785 - accuracy: 0.8786 - val_loss: 0.4492 - val_accuracy: 0.8718\n",
      "Epoch 33/200\n",
      "42000/42000 [==============================] - 55s 1ms/sample - loss: 0.3680 - accuracy: 0.8796 - val_loss: 0.4506 - val_accuracy: 0.8708\n",
      "Epoch 34/200\n",
      "42000/42000 [==============================] - 55s 1ms/sample - loss: 0.3618 - accuracy: 0.8820 - val_loss: 0.4647 - val_accuracy: 0.8647\n",
      "Epoch 35/200\n",
      "42000/42000 [==============================] - 55s 1ms/sample - loss: 0.3588 - accuracy: 0.8836 - val_loss: 0.4587 - val_accuracy: 0.8702\n",
      "Epoch 36/200\n",
      "42000/42000 [==============================] - 55s 1ms/sample - loss: 0.3562 - accuracy: 0.8847 - val_loss: 0.4536 - val_accuracy: 0.8716\n",
      "Epoch 37/200\n",
      "42000/42000 [==============================] - 58s 1ms/sample - loss: 0.3508 - accuracy: 0.8852 - val_loss: 0.4530 - val_accuracy: 0.8699\n",
      "Epoch 38/200\n",
      "42000/42000 [==============================] - 58s 1ms/sample - loss: 0.3420 - accuracy: 0.8895 - val_loss: 0.4700 - val_accuracy: 0.8669\n",
      "Epoch 39/200\n",
      "42000/42000 [==============================] - 57s 1ms/sample - loss: 0.3377 - accuracy: 0.8904 - val_loss: 0.4680 - val_accuracy: 0.8669\n",
      "Epoch 40/200\n",
      "42000/42000 [==============================] - 55s 1ms/sample - loss: 0.3349 - accuracy: 0.8917 - val_loss: 0.4587 - val_accuracy: 0.8711\n",
      "Epoch 41/200\n",
      "42000/42000 [==============================] - 56s 1ms/sample - loss: 0.3345 - accuracy: 0.8918 - val_loss: 0.4577 - val_accuracy: 0.8716\n",
      "Epoch 42/200\n",
      "42000/42000 [==============================] - 55s 1ms/sample - loss: 0.3263 - accuracy: 0.8933 - val_loss: 0.4664 - val_accuracy: 0.8702\n",
      "Epoch 43/200\n",
      "42000/42000 [==============================] - 55s 1ms/sample - loss: 0.3271 - accuracy: 0.8917 - val_loss: 0.4610 - val_accuracy: 0.8700\n",
      "Epoch 44/200\n",
      "27744/42000 [==================>...........] - ETA: 17s - loss: 0.3157 - accuracy: 0.8969"
     ]
    }
   ],
   "source": [
    "history3 = m3.fit(X_train, y_train1, validation_data=(X_test, y_test1), epochs=200, batch_size=32)\n",
    "\n",
    "# Plot training & validation accuracy values\n",
    "plt.plot(history3.history['accuracy'])\n",
    "plt.plot(history3.history['val_accuracy'])\n",
    "plt.title('Model accuracy')\n",
    "plt.ylabel('Accuracy')\n",
    "plt.xlabel('Epoch')\n",
    "plt.legend(['Train', 'Test'], loc='upper left')\n",
    "plt.show()\n",
    "\n",
    "# Plot training & validation loss values\n",
    "plt.plot(history3.history['loss'])\n",
    "plt.plot(history3.history['val_loss'])\n",
    "plt.title('Model loss')\n",
    "plt.ylabel('Loss')\n",
    "plt.xlabel('Epoch')\n",
    "plt.legend(['Train', 'Test'], loc='upper left')\n",
    "plt.show()"
   ]
  },
  {
   "cell_type": "code",
   "execution_count": 0,
   "metadata": {
    "colab": {},
    "colab_type": "code",
    "id": "rOOIrFa3fT_z"
   },
   "outputs": [],
   "source": []
  }
 ],
 "metadata": {
  "accelerator": "GPU",
  "colab": {
   "collapsed_sections": [],
   "name": "Untitled6.ipynb",
   "provenance": [],
   "toc_visible": true
  },
  "kernelspec": {
   "display_name": "Python 3",
   "language": "python",
   "name": "python3"
  },
  "language_info": {
   "codemirror_mode": {
    "name": "ipython",
    "version": 3
   },
   "file_extension": ".py",
   "mimetype": "text/x-python",
   "name": "python",
   "nbconvert_exporter": "python",
   "pygments_lexer": "ipython3",
   "version": "3.7.1"
  }
 },
 "nbformat": 4,
 "nbformat_minor": 1
}
