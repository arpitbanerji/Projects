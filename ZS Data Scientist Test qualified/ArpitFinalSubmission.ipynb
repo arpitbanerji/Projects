{
 "cells": [
  {
   "cell_type": "code",
   "execution_count": null,
   "metadata": {
    "colab": {},
    "colab_type": "code",
    "id": "ajzXPFmVRCYb"
   },
   "outputs": [],
   "source": [
    "import numpy as np\n",
    "import pandas as pd\n",
    "import re\n",
    "import nltk\n",
    "from nltk.corpus import stopwords\n",
    "import nltk\n",
    "from nltk.stem import WordNetLemmatizer\n",
    "from nltk.stem.porter import PorterStemmer\n",
    "from sklearn.model_selection import train_test_split\n",
    "from sklearn.feature_extraction.text import TfidfVectorizer\n",
    "from sklearn.feature_extraction.text import CountVectorizer\n",
    "from sklearn.preprocessing import Normalizer\n",
    "import time\n",
    "from sklearn.neural_network import MLPRegressor\n",
    "from sklearn.linear_model import LogisticRegression\n",
    "from sklearn.multioutput import MultiOutputRegressor\n",
    "import xgboost as xgb\n",
    "from sklearn.svm import SVR\n",
    "from sklearn.ensemble import RandomForestRegressor\n",
    "from sklearn.tree import DecisionTreeRegressor"
   ]
  },
  {
   "cell_type": "code",
   "execution_count": null,
   "metadata": {
    "colab": {
     "base_uri": "https://localhost:8080/",
     "height": 68
    },
    "colab_type": "code",
    "id": "5sfkPxn2Rb9h",
    "outputId": "311329a6-a95c-40d6-84ad-35bd3b5dbbce"
   },
   "outputs": [],
   "source": [
    "nltk.download('stopwords')"
   ]
  },
  {
   "cell_type": "code",
   "execution_count": null,
   "metadata": {
    "colab": {},
    "colab_type": "code",
    "id": "5kgrcC9TRCYi"
   },
   "outputs": [],
   "source": [
    "df=pd.read_csv('../input/train_file.csv')"
   ]
  },
  {
   "cell_type": "code",
   "execution_count": null,
   "metadata": {
    "colab": {},
    "colab_type": "code",
    "id": "794zuvrmFtRn"
   },
   "outputs": [],
   "source": [
    "test=pd.read_csv('../input/test_file.csv')"
   ]
  },
  {
   "cell_type": "code",
   "execution_count": null,
   "metadata": {},
   "outputs": [],
   "source": [
    "idx=pd.read_csv('../input/test_file.csv')\n",
    "idx=idx.set_index('IDLink')"
   ]
  },
  {
   "cell_type": "code",
   "execution_count": null,
   "metadata": {},
   "outputs": [],
   "source": [
    "idx.head()"
   ]
  },
  {
   "cell_type": "code",
   "execution_count": 76,
   "metadata": {},
   "outputs": [
    {
     "data": {
      "text/plain": [
       "Bloomberg                        992\n",
       "Reuters                          763\n",
       "ABC News                         645\n",
       "New York Times                   573\n",
       "The Guardian                     551\n",
       "                                ... \n",
       "World Policy Institute (blog)      1\n",
       "Enstarz                            1\n",
       "LBC 97.3                           1\n",
       "Cities Today                       1\n",
       "Sojourners                         1\n",
       "Name: Source, Length: 4753, dtype: int64"
      ]
     },
     "execution_count": 76,
     "metadata": {},
     "output_type": "execute_result"
    }
   ],
   "source": [
    "df['Source'].value_counts()"
   ]
  },
  {
   "cell_type": "code",
   "execution_count": 77,
   "metadata": {},
   "outputs": [
    {
     "data": {
      "text/plain": [
       "IDLink                 0\n",
       "Title                  0\n",
       "Headline               0\n",
       "Source               175\n",
       "Topic                  0\n",
       "PublishDate            0\n",
       "Facebook               0\n",
       "GooglePlus             0\n",
       "LinkedIn               0\n",
       "SentimentTitle         0\n",
       "SentimentHeadline      0\n",
       "dtype: int64"
      ]
     },
     "execution_count": 77,
     "metadata": {},
     "output_type": "execute_result"
    }
   ],
   "source": [
    "df.isnull().sum()"
   ]
  },
  {
   "cell_type": "code",
   "execution_count": 78,
   "metadata": {},
   "outputs": [],
   "source": [
    "l=df[df['Source'].isnull()==True] "
   ]
  },
  {
   "cell_type": "code",
   "execution_count": 79,
   "metadata": {},
   "outputs": [
    {
     "data": {
      "text/plain": [
       " 0     127\n",
       "-1      34\n",
       " 1       4\n",
       " 2       4\n",
       " 3       2\n",
       " 13      1\n",
       " 9       1\n",
       " 5       1\n",
       " 4       1\n",
       "Name: Facebook, dtype: int64"
      ]
     },
     "execution_count": 79,
     "metadata": {},
     "output_type": "execute_result"
    }
   ],
   "source": [
    "l['Facebook'].value_counts()"
   ]
  },
  {
   "cell_type": "code",
   "execution_count": 80,
   "metadata": {},
   "outputs": [
    {
     "data": {
      "text/plain": [
       " 0    139\n",
       "-1     34\n",
       " 1      1\n",
       " 8      1\n",
       "Name: GooglePlus, dtype: int64"
      ]
     },
     "execution_count": 80,
     "metadata": {},
     "output_type": "execute_result"
    }
   ],
   "source": [
    "l['GooglePlus'].value_counts()"
   ]
  },
  {
   "cell_type": "code",
   "execution_count": 81,
   "metadata": {},
   "outputs": [
    {
     "data": {
      "text/plain": [
       " 0    140\n",
       "-1     34\n",
       " 1      1\n",
       "Name: LinkedIn, dtype: int64"
      ]
     },
     "execution_count": 81,
     "metadata": {},
     "output_type": "execute_result"
    }
   ],
   "source": [
    "l['LinkedIn'].value_counts()"
   ]
  },
  {
   "cell_type": "markdown",
   "metadata": {},
   "source": [
    "##  Here we can see that the news with no sources have negligible impact on the popularity."
   ]
  },
  {
   "cell_type": "code",
   "execution_count": 82,
   "metadata": {},
   "outputs": [],
   "source": [
    "bloomberg=df[df['Source']=='Bloomberg'] "
   ]
  },
  {
   "cell_type": "code",
   "execution_count": 83,
   "metadata": {},
   "outputs": [
    {
     "data": {
      "text/plain": [
       "1       117\n",
       "2        78\n",
       "0        66\n",
       "3        64\n",
       "4        48\n",
       "       ... \n",
       "72        1\n",
       "139       1\n",
       "75        1\n",
       "137       1\n",
       "1982      1\n",
       "Name: Facebook, Length: 170, dtype: int64"
      ]
     },
     "execution_count": 83,
     "metadata": {},
     "output_type": "execute_result"
    }
   ],
   "source": [
    "bloomberg['Facebook'].value_counts()"
   ]
  },
  {
   "cell_type": "code",
   "execution_count": 84,
   "metadata": {},
   "outputs": [
    {
     "data": {
      "text/plain": [
       " 0      540\n",
       " 1      161\n",
       " 2       63\n",
       "-1       44\n",
       " 3       31\n",
       " 4       28\n",
       " 5       25\n",
       " 7       13\n",
       " 8       11\n",
       " 6       10\n",
       " 9        7\n",
       " 12       6\n",
       " 14       6\n",
       " 11       4\n",
       " 15       3\n",
       " 22       3\n",
       " 21       3\n",
       " 13       2\n",
       " 10       2\n",
       " 16       2\n",
       " 18       2\n",
       " 19       2\n",
       " 33       2\n",
       " 23       2\n",
       " 121      1\n",
       " 37       1\n",
       " 109      1\n",
       " 88       1\n",
       " 55       1\n",
       " 54       1\n",
       " 47       1\n",
       " 46       1\n",
       " 43       1\n",
       " 39       1\n",
       " 36       1\n",
       " 30       1\n",
       " 29       1\n",
       " 28       1\n",
       " 26       1\n",
       " 25       1\n",
       " 17       1\n",
       " 24       1\n",
       " 57       1\n",
       " 74       1\n",
       "Name: GooglePlus, dtype: int64"
      ]
     },
     "execution_count": 84,
     "metadata": {},
     "output_type": "execute_result"
    }
   ],
   "source": [
    "bloomberg['GooglePlus'].value_counts()"
   ]
  },
  {
   "cell_type": "code",
   "execution_count": 85,
   "metadata": {},
   "outputs": [
    {
     "data": {
      "text/plain": [
       " 0      247\n",
       " 1      102\n",
       " 2       57\n",
       "-1       44\n",
       " 4       37\n",
       "       ... \n",
       " 133      1\n",
       " 129      1\n",
       " 72       1\n",
       " 73       1\n",
       " 91       1\n",
       "Name: LinkedIn, Length: 157, dtype: int64"
      ]
     },
     "execution_count": 85,
     "metadata": {},
     "output_type": "execute_result"
    }
   ],
   "source": [
    "bloomberg['LinkedIn'].value_counts()"
   ]
  },
  {
   "cell_type": "markdown",
   "metadata": {},
   "source": [
    "# Popular Sources have thier corresponding effect on the popularity scores so there is no need of keeping source in the model, it will only increase the popularity."
   ]
  },
  {
   "cell_type": "code",
   "execution_count": 116,
   "metadata": {},
   "outputs": [],
   "source": [
    "fb_max_viewers=df['Facebook'].sort_values().tail(10).values.tolist()\n",
    "gp_max_viewers=df['GooglePlus'].sort_values().tail(10).values.tolist()\n",
    "li_max_viewers=df['LinkedIn'].sort_values().tail(10).values.tolist()"
   ]
  },
  {
   "cell_type": "code",
   "execution_count": 117,
   "metadata": {},
   "outputs": [],
   "source": [
    "Best_News_Sources=[]\n",
    "Best_Topics=[]\n",
    "for i in fb_max_viewers:\n",
    "    Best_News_Sources.append(df[df['Facebook']==i]['Source'].values)\n",
    "    Best_Topics.append(df[df['Facebook']==i]['Topic'].values)\n",
    "for i in gp_max_viewers:\n",
    "    Best_News_Sources.append(df[df['GooglePlus']==i]['Source'].values)\n",
    "    Best_Topics.append(df[df['GooglePlus']==i]['Topic'].values)\n",
    "for i in li_max_viewers:\n",
    "    Best_News_Sources.append(df[df['LinkedIn']==i]['Source'].values)\n",
    "    Best_Topics.append(df[df['LinkedIn']==i]['Topic'].values)"
   ]
  },
  {
   "cell_type": "code",
   "execution_count": 124,
   "metadata": {},
   "outputs": [
    {
     "data": {
      "text/plain": [
       "[array(['GameZone'], dtype=object),\n",
       " array(['GameZone'], dtype=object),\n",
       " array(['Telegraph.co.uk'], dtype=object),\n",
       " array(['Breitbart News'], dtype=object),\n",
       " array(['CNN'], dtype=object),\n",
       " array(['New York Times'], dtype=object),\n",
       " array(['CNN'], dtype=object),\n",
       " array(['New York Times'], dtype=object),\n",
       " array(['Breitbart News'], dtype=object),\n",
       " array(['New Zealand Herald'], dtype=object),\n",
       " array(['The Guardian'], dtype=object),\n",
       " array(['The Intercept'], dtype=object),\n",
       " array(['The Verge'], dtype=object),\n",
       " array(['Breitbart News'], dtype=object),\n",
       " array(['Raw Story'], dtype=object),\n",
       " array(['New York Times'], dtype=object),\n",
       " array(['Narendra Modi (press release) (blog)'], dtype=object),\n",
       " array(['Telegraph.co.uk'], dtype=object),\n",
       " array(['The Verge'], dtype=object),\n",
       " array(['CNNMoney'], dtype=object),\n",
       " array(['Mashable'], dtype=object),\n",
       " array(['New York Times'], dtype=object),\n",
       " array(['Winnipeg Free Press'], dtype=object),\n",
       " array(['Harvard Business Review'], dtype=object),\n",
       " array(['Harvard Business Review'], dtype=object),\n",
       " array(['International Herald Tribune'], dtype=object),\n",
       " array(['Harvard Business Review'], dtype=object),\n",
       " array(['Winnipeg Free Press'], dtype=object),\n",
       " array(['New York Times'], dtype=object),\n",
       " array(['Winnipeg Free Press'], dtype=object)]"
      ]
     },
     "execution_count": 124,
     "metadata": {},
     "output_type": "execute_result"
    }
   ],
   "source": [
    "Best_News_Sources"
   ]
  },
  {
   "cell_type": "markdown",
   "metadata": {},
   "source": [
    "## Best News Sources ^"
   ]
  },
  {
   "cell_type": "code",
   "execution_count": 118,
   "metadata": {},
   "outputs": [
    {
     "data": {
      "text/plain": [
       "[array(['microsoft'], dtype=object),\n",
       " array(['microsoft'], dtype=object),\n",
       " array(['microsoft'], dtype=object),\n",
       " array(['obama'], dtype=object),\n",
       " array(['obama'], dtype=object),\n",
       " array(['economy'], dtype=object),\n",
       " array(['obama'], dtype=object),\n",
       " array(['obama'], dtype=object),\n",
       " array(['obama'], dtype=object),\n",
       " array(['economy'], dtype=object),\n",
       " array(['economy'], dtype=object),\n",
       " array(['microsoft'], dtype=object),\n",
       " array(['microsoft'], dtype=object),\n",
       " array(['obama'], dtype=object),\n",
       " array(['obama'], dtype=object),\n",
       " array(['economy'], dtype=object),\n",
       " array(['economy'], dtype=object),\n",
       " array(['microsoft'], dtype=object),\n",
       " array(['microsoft'], dtype=object),\n",
       " array(['economy'], dtype=object),\n",
       " array(['microsoft'], dtype=object),\n",
       " array(['obama'], dtype=object),\n",
       " array(['economy'], dtype=object),\n",
       " array(['economy'], dtype=object),\n",
       " array(['economy'], dtype=object),\n",
       " array(['microsoft'], dtype=object),\n",
       " array(['economy'], dtype=object),\n",
       " array(['economy'], dtype=object),\n",
       " array(['microsoft'], dtype=object),\n",
       " array(['economy'], dtype=object)]"
      ]
     },
     "execution_count": 118,
     "metadata": {},
     "output_type": "execute_result"
    }
   ],
   "source": [
    "Best_Topics"
   ]
  },
  {
   "cell_type": "markdown",
   "metadata": {},
   "source": [
    "# Popular Topics ^"
   ]
  },
  {
   "cell_type": "code",
   "execution_count": null,
   "metadata": {
    "colab": {},
    "colab_type": "code",
    "id": "MUTVswHmECQy"
   },
   "outputs": [],
   "source": [
    "def preprocess(df1):\n",
    "    start_time = time.clock()\n",
    "    df1.pop('PublishDate')\n",
    "    df1.pop(\"IDLink\")\n",
    "    df1.pop('Topic')\n",
    "    df1.pop('Source')\n",
    "    print('Dropped PublishDate and IDLink')\n",
    "    \n",
    "    #df1['Source']=df1['Source'].fillna('unknown')\n",
    "    #print('Nans for Source Treated!')\n",
    "    Title=[]\n",
    "    Headline=[]\n",
    "   # Source=[]\n",
    "  \n",
    "    for i in df1['Title']:\n",
    "        letters_only = re.sub(\"[^a-zA-Z]\",\" \",i)\n",
    "        Title.append(letters_only)\n",
    "\n",
    "    for i in df1['Headline']:\n",
    "        letters_only = re.sub(\"[^a-zA-Z]\",\" \",i)\n",
    "        Headline.append(letters_only)\n",
    "        \n",
    "    #for i in df1['Source']:\n",
    "        #letters_only = re.sub(\"[^a-zA-Z]\",\" \",i)\n",
    "        #Source.append(letters_only)\n",
    "      \n",
    "      \n",
    "    df1['Title']=Title    \n",
    "    df1['Headline']=Headline\n",
    "    #df1['Source']=Source\n",
    "    print('Title and Headline corpus with only Letters')\n",
    "   \n",
    "\n",
    "    df1['Title'] = df1['Title'].str.lower()\n",
    "    df1['Headline'] = df1['Headline'].str.lower()\n",
    "    #df1['Source'] = df1['Source'].str.lower()\n",
    "    print('Title and Headline converted to lower case')\n",
    "\n",
    "    df1['Title'] = df1['Title'].str.strip()\n",
    "    df1['Headline'] = df1['Headline'].str.strip()\n",
    "    #df1['Source'] = df1['Source'].str.strip()\n",
    "    print('Title and Headline Stripped for blank spaces')\n",
    "    \n",
    "    #for i,l in enumerate(df1['Source']):\n",
    "        #k=df1['Source'][i].replace(\" \", \"\")\n",
    "        #df1['Source'][i]=k\n",
    "    #print('Source Stripped for blank spaces inside')\n",
    "    \n",
    "    df1['Title'] = df1['Title'].str.split()  \n",
    "    df1['Headline'] = df1['Headline'].str.split() \n",
    "  \n",
    "    stop = stopwords.words(\"english\")\n",
    "  \n",
    "    def removestopwords(y):   \n",
    "        stopwordremoved =[w for w in y if not w in stop]\n",
    "        return(\" \".join(stopwordremoved))\n",
    "    column_size = df1.shape[0]\n",
    "  \n",
    "    cleaned1 = []\n",
    "    cleaned2 = []\n",
    "    for i in range( 0, column_size):\n",
    "        cleaned1.append(removestopwords(df1['Title'][i]))\n",
    "        cleaned2.append(removestopwords(df1['Headline'][i]))\n",
    "  \n",
    "    df1['Title'] = cleaned1\n",
    "    df1['Headline'] = cleaned2\n",
    "    print('Title and Headline :Removed Stopwords')\n",
    "\n",
    "    w_tokenizer = nltk.tokenize.WhitespaceTokenizer()\n",
    "    lemmatizer = nltk.stem.WordNetLemmatizer()\n",
    "\n",
    "    def lemmatize_text(text):\n",
    "        lemm = [lemmatizer.lemmatize(w) for w in w_tokenizer.tokenize(text)]\n",
    "        return(\" \".join(lemm)) \n",
    "\n",
    "    clean1=[]\n",
    "    clean2=[]\n",
    "    for i in range( 0, column_size):\n",
    "        clean1.append(lemmatize_text(df1['Title'][i]))\n",
    "        clean2.append(lemmatize_text(df1['Headline'][i]))\n",
    "  \n",
    "    df1['Title']=clean1\n",
    "    df1['Headline']=clean2\n",
    "    print('Title and Headline :Lemmatized')\n",
    "  \n",
    "    porter_stemmer = PorterStemmer()\n",
    "    def stemmer(text):\n",
    "        stem = [porter_stemmer.stem(w) for w in w_tokenizer.tokenize(text)]\n",
    "        return(\" \".join(stem)) \n",
    "    stem1=[]\n",
    "    stem2=[]\n",
    "    for i in range( 0, column_size):\n",
    "        stem1.append(stemmer(df1['Title'][i]))\n",
    "        stem2.append(stemmer(df1['Headline'][i]))\n",
    "    df1['Title']=stem1\n",
    "    df1['Headline']=stem2\n",
    "    print('Title and Headline :Stemmed')\n",
    "\n",
    "    #df1=pd.concat((df1.drop(['Topic'],axis=1 ), pd.get_dummies(df1['Topic'])) , axis=1)\n",
    "    #print('One-hot Encoding for Topic')\n",
    "    print('Time took for preprocessing',time.clock() - start_time, \"seconds\")\n",
    "    return df1"
   ]
  },
  {
   "cell_type": "code",
   "execution_count": null,
   "metadata": {
    "colab": {
     "base_uri": "https://localhost:8080/",
     "height": 170
    },
    "colab_type": "code",
    "id": "oM7YbSuuMifq",
    "outputId": "24d87528-20cf-4930-af8b-e5a7d403aa40"
   },
   "outputs": [],
   "source": [
    "train=preprocess(df)"
   ]
  },
  {
   "cell_type": "code",
   "execution_count": null,
   "metadata": {
    "colab": {
     "base_uri": "https://localhost:8080/",
     "height": 170
    },
    "colab_type": "code",
    "id": "Q1ksrsDQlUGl",
    "outputId": "5b05bc9c-785f-4fb5-d59f-62d5d61d2d80"
   },
   "outputs": [],
   "source": [
    "test=preprocess(test)"
   ]
  },
  {
   "cell_type": "code",
   "execution_count": null,
   "metadata": {
    "colab": {},
    "colab_type": "code",
    "id": "XmQCora25Ua8"
   },
   "outputs": [],
   "source": [
    "#import dateutil.parser as dparser\n",
    "#dparser.parse(df['PublishDate'][55927],fuzzy=True)"
   ]
  },
  {
   "cell_type": "markdown",
   "metadata": {
    "colab_type": "text",
    "id": "bvgB8CJdRCZf"
   },
   "source": [
    "# Model1"
   ]
  },
  {
   "cell_type": "code",
   "execution_count": null,
   "metadata": {
    "colab": {},
    "colab_type": "code",
    "id": "CTHYrC9MRCZg"
   },
   "outputs": [],
   "source": [
    "data1=train\n",
    "data2=test"
   ]
  },
  {
   "cell_type": "code",
   "execution_count": null,
   "metadata": {
    "colab": {
     "base_uri": "https://localhost:8080/",
     "height": 193
    },
    "colab_type": "code",
    "id": "cEXuk0c8N_cZ",
    "outputId": "87115120-f466-4ea2-a06f-d3c6c1c3b25b"
   },
   "outputs": [],
   "source": [
    "data1.head(3)"
   ]
  },
  {
   "cell_type": "code",
   "execution_count": null,
   "metadata": {
    "colab": {
     "base_uri": "https://localhost:8080/",
     "height": 142
    },
    "colab_type": "code",
    "id": "i6zD6GhlM8RZ",
    "outputId": "4541444c-6491-4ccf-94df-1352be799167"
   },
   "outputs": [],
   "source": [
    "data2.head(3)"
   ]
  },
  {
   "cell_type": "code",
   "execution_count": null,
   "metadata": {
    "colab": {
     "base_uri": "https://localhost:8080/",
     "height": 102
    },
    "colab_type": "code",
    "id": "MPXDxfMbdFS9",
    "outputId": "724cfda3-fa46-47a8-b3df-409adf6bca1c"
   },
   "outputs": [],
   "source": [
    "#for i,l in enumerate(data1['Source']):\n",
    " # k=data1['Source'][i].replace(\" \", \"\")\n",
    " # data1['Source'][i]=k"
   ]
  },
  {
   "cell_type": "code",
   "execution_count": null,
   "metadata": {
    "colab": {
     "base_uri": "https://localhost:8080/",
     "height": 34
    },
    "colab_type": "code",
    "id": "CkfhXVrENer3",
    "outputId": "b2360906-3b27-4c82-946a-595ec48d5adf"
   },
   "outputs": [],
   "source": [
    "start_time = time.clock()\n",
    "data1=pd.concat([data1,pd.DataFrame(Normalizer().fit_transform(data1.iloc[:,2:5]), columns=['Fb', 'Gp', 'LI'])], axis=1)\n",
    "data1=data1.drop(['Facebook', 'GooglePlus','LinkedIn' ], axis=1)\n",
    "data2=pd.concat([data2,pd.DataFrame(Normalizer().fit_transform(data2.iloc[:,2:5]), columns=['Fb', 'Gp', 'LI'])], axis=1)\n",
    "data2=data2.drop(['Facebook', 'GooglePlus','LinkedIn' ], axis=1)\n",
    "print('Time took for Normalizing',time.clock() - start_time, \"seconds\")"
   ]
  },
  {
   "cell_type": "code",
   "execution_count": null,
   "metadata": {
    "colab": {
     "base_uri": "https://localhost:8080/",
     "height": 193
    },
    "colab_type": "code",
    "id": "MH58hOyoNsej",
    "outputId": "e0e892ed-d886-45e8-e381-dfb9fca1b93c"
   },
   "outputs": [],
   "source": [
    "data1.head(3)"
   ]
  },
  {
   "cell_type": "code",
   "execution_count": null,
   "metadata": {
    "colab": {
     "base_uri": "https://localhost:8080/",
     "height": 142
    },
    "colab_type": "code",
    "id": "yN53RXMHnprg",
    "outputId": "c80dbcbf-9042-4b91-c7ef-face4a43fe9b"
   },
   "outputs": [],
   "source": [
    "data2.head(3)"
   ]
  },
  {
   "cell_type": "code",
   "execution_count": null,
   "metadata": {
    "colab": {},
    "colab_type": "code",
    "id": "poivLmDiRCZs"
   },
   "outputs": [],
   "source": [
    "vectorizer = TfidfVectorizer(max_features=5000)"
   ]
  },
  {
   "cell_type": "code",
   "execution_count": null,
   "metadata": {
    "colab": {},
    "colab_type": "code",
    "id": "7EtSJJ7YRCZ0"
   },
   "outputs": [],
   "source": [
    "X_train=pd.concat([pd.DataFrame(vectorizer.fit_transform(data1['Title']).toarray()) , pd.DataFrame(vectorizer.fit_transform(data1['Headline']).toarray())], axis=1)"
   ]
  },
  {
   "cell_type": "code",
   "execution_count": null,
   "metadata": {
    "colab": {},
    "colab_type": "code",
    "id": "OZsc9ODSOpUN"
   },
   "outputs": [],
   "source": [
    "X_test=pd.concat([pd.DataFrame(vectorizer.fit_transform(data2['Title']).toarray())  , pd.DataFrame(vectorizer.fit_transform(data2['Headline']).toarray())], axis=1)"
   ]
  },
  {
   "cell_type": "code",
   "execution_count": null,
   "metadata": {
    "colab": {},
    "colab_type": "code",
    "id": "93KFlmYy37dV"
   },
   "outputs": [],
   "source": [
    "data1=data1.drop(['Title', 'Headline'],axis=1)\n",
    "data2=data2.drop(['Title', 'Headline'],axis=1)"
   ]
  },
  {
   "cell_type": "code",
   "execution_count": null,
   "metadata": {
    "colab": {},
    "colab_type": "code",
    "id": "T2WiQeoC7N-b"
   },
   "outputs": [],
   "source": [
    "X_train=pd.concat([X_train, data1.drop(['SentimentTitle','SentimentHeadline'], axis=1)], axis=1)"
   ]
  },
  {
   "cell_type": "code",
   "execution_count": null,
   "metadata": {
    "colab": {},
    "colab_type": "code",
    "id": "5eLxik7VO85l"
   },
   "outputs": [],
   "source": [
    "X_test=pd.concat([X_test, data2], axis=1)"
   ]
  },
  {
   "cell_type": "code",
   "execution_count": null,
   "metadata": {
    "colab": {
     "base_uri": "https://localhost:8080/",
     "height": 191
    },
    "colab_type": "code",
    "id": "wlG_fzsfPT10",
    "outputId": "34f91afa-e899-4f28-8485-4de73f3574bf"
   },
   "outputs": [],
   "source": [
    "X_train.head(3)"
   ]
  },
  {
   "cell_type": "code",
   "execution_count": null,
   "metadata": {
    "colab": {
     "base_uri": "https://localhost:8080/",
     "height": 191
    },
    "colab_type": "code",
    "id": "1Ttvu0z6bcbU",
    "outputId": "174dbdcc-2c67-4ab1-f505-47e4d444058a"
   },
   "outputs": [],
   "source": [
    "X_test.head(3)"
   ]
  },
  {
   "cell_type": "code",
   "execution_count": null,
   "metadata": {
    "colab": {},
    "colab_type": "code",
    "id": "ub2to7Y1dp9w"
   },
   "outputs": [],
   "source": [
    "y_train=data1.loc[:,'SentimentTitle':'SentimentHeadline']"
   ]
  },
  {
   "cell_type": "code",
   "execution_count": null,
   "metadata": {
    "colab": {
     "base_uri": "https://localhost:8080/",
     "height": 142
    },
    "colab_type": "code",
    "id": "LWPTVwlEpqsK",
    "outputId": "8a38ebd2-9938-4d3d-c634-947b3375a7a4"
   },
   "outputs": [],
   "source": [
    "y_train.head(3)"
   ]
  },
  {
   "cell_type": "code",
   "execution_count": null,
   "metadata": {
    "colab": {
     "base_uri": "https://localhost:8080/",
     "height": 34
    },
    "colab_type": "code",
    "id": "HzUX4b1JRCZ4",
    "outputId": "63f5096b-30b5-4541-a0f1-b0fa93f26030"
   },
   "outputs": [],
   "source": [
    "#This was done evaluating the model on training before moving to validation.\n",
    "\n",
    "#X_train, X_test, Y_train, Y_test = train_test_split(e,y, test_size = 0.30, random_state = 143)\n",
    "#X_train.shape"
   ]
  },
  {
   "cell_type": "markdown",
   "metadata": {
    "colab_type": "text",
    "id": "caCW7tK1pV1f"
   },
   "source": [
    "## Best_Model : MLP Regressor"
   ]
  },
  {
   "cell_type": "code",
   "execution_count": null,
   "metadata": {
    "colab": {},
    "colab_type": "code",
    "id": "N3a8Kz3Yrpe4"
   },
   "outputs": [],
   "source": [
    "neu=MLPRegressor(hidden_layer_sizes=(100, ), \n",
    "             activation='relu', solver='adam', \n",
    "             alpha=0.0001, batch_size=32, \n",
    "             learning_rate='adaptive', \n",
    "             learning_rate_init=0.001, \n",
    "             power_t=0.5, max_iter=200, \n",
    "             shuffle=True, random_state=None, \n",
    "             tol=0.0001, verbose=False, \n",
    "             warm_start=False, momentum=0.9, \n",
    "             nesterovs_momentum=True, early_stopping=False,\n",
    "             validation_fraction=0.1, beta_1=0.9,\n",
    "             beta_2=0.999, epsilon=1e-08,\n",
    "             n_iter_no_change=10, max_fun=15000)"
   ]
  },
  {
   "cell_type": "code",
   "execution_count": null,
   "metadata": {
    "colab": {
     "base_uri": "https://localhost:8080/",
     "height": 153
    },
    "colab_type": "code",
    "id": "UG_AVuaFshfp",
    "outputId": "eb9aa784-e72b-4635-b28e-5fe7c754cd46"
   },
   "outputs": [],
   "source": [
    "neu.fit(X_train, y_train)"
   ]
  },
  {
   "cell_type": "code",
   "execution_count": null,
   "metadata": {
    "colab": {
     "base_uri": "https://localhost:8080/",
     "height": 88
    },
    "colab_type": "code",
    "id": "RJ9tkqaisn8e",
    "outputId": "5660c425-16f7-4702-f750-ce2c3c7992ae"
   },
   "outputs": [],
   "source": [
    "neu.score(X_train, y_train)"
   ]
  },
  {
   "cell_type": "code",
   "execution_count": null,
   "metadata": {
    "colab": {},
    "colab_type": "code",
    "id": "pxWCvgwitZ9D"
   },
   "outputs": [],
   "source": [
    "pred=neu.predict(X_test)\n",
    "MLP500=pd.DataFrame(pred, columns=['SentimentTitle', 'SentimentHeadline'], index=idx.index)\n",
    "MLP500.to_csv('/kaggle/working/MLP500.csv')"
   ]
  },
  {
   "cell_type": "markdown",
   "metadata": {},
   "source": [
    "## This Showed an Accuracy of 88.022"
   ]
  },
  {
   "cell_type": "markdown",
   "metadata": {},
   "source": [
    "##  -----------------------------------------------------------------------------------"
   ]
  },
  {
   "cell_type": "markdown",
   "metadata": {
    "colab_type": "text",
    "id": "6tXvG3bbqOeE"
   },
   "source": [
    "## Model 2: MultiOutputregressor with embedded RandomForest"
   ]
  },
  {
   "cell_type": "code",
   "execution_count": null,
   "metadata": {},
   "outputs": [],
   "source": [
    "mo= MultiOutputRegressor(RandomForestRegressor(n_jobs=-1), n_jobs=-1)\n",
    "mo.fit(X_train,y_train)"
   ]
  },
  {
   "cell_type": "code",
   "execution_count": null,
   "metadata": {
    "colab": {
     "base_uri": "https://localhost:8080/",
     "height": 34
    },
    "colab_type": "code",
    "id": "IeCer3PCRCZ7",
    "outputId": "c11bfa29-046e-453d-ee51-05d16140507e"
   },
   "outputs": [],
   "source": [
    "mo.score(X_train, y_train)\n",
    "pred1=mo.predict(X_test)\n",
    "Ans2=pd.DataFrame(pred1, columns=['SentimentTitle', 'SentimentHeadline'], index=idx.index)\n",
    "Ans2.to_csv('/kaggle/working/Ans2.csv')"
   ]
  },
  {
   "cell_type": "markdown",
   "metadata": {},
   "source": [
    "## This Showed an Accuracy of 88.7"
   ]
  },
  {
   "cell_type": "markdown",
   "metadata": {},
   "source": [
    "## ------------------------------------------------------------------------------------"
   ]
  },
  {
   "cell_type": "markdown",
   "metadata": {},
   "source": [
    "## Model 3 Neural Networks."
   ]
  },
  {
   "cell_type": "code",
   "execution_count": null,
   "metadata": {},
   "outputs": [],
   "source": [
    "!pip install -U tensorflow==2.0.0 --quiet\n",
    "import tensorflow as tf"
   ]
  },
  {
   "cell_type": "code",
   "execution_count": null,
   "metadata": {},
   "outputs": [],
   "source": [
    "model=tf.keras.Sequential()\n",
    "model.add(tf.keras.layers.Dense(128,input_dim = X_train.shape[1], activation='relu'))\n",
    "model.add(tf.keras.layers.Dense(128, activation='relu'))\n",
    "model.add(tf.keras.layers.BatchNormalization())\n",
    "model.add(tf.keras.layers.Dense(128,activation='relu'))\n",
    "model.add(tf.keras.layers.Dense(128,activation='relu'))\n",
    "model.add(tf.keras.layers.BatchNormalization())\n",
    "model.add(tf.keras.layers.Dense(128,activation='relu'))\n",
    "model.add(tf.keras.layers.BatchNormalization())\n",
    "model.add(tf.keras.layers.Dense(128,activation='relu'))\n",
    "model.add(tf.keras.layers.Dense(2,activation='linear'))\n",
    "model.compile(loss='mean_absolute_error', optimizer='adam', metrics=['mean_absolute_error'])\n",
    "model.summary()"
   ]
  },
  {
   "cell_type": "code",
   "execution_count": null,
   "metadata": {},
   "outputs": [],
   "source": [
    "from keras.callbacks import ModelCheckpoint\n",
    "checkpoint_name = 'Weights-{epoch:03d}--{val_loss:.5f}.hdf5' \n",
    "checkpoint = ModelCheckpoint(checkpoint_name, monitor='val_loss', verbose = 1, save_best_only = True, mode ='auto')\n",
    "callbacks_list = [checkpoint]]"
   ]
  },
  {
   "cell_type": "code",
   "execution_count": null,
   "metadata": {},
   "outputs": [],
   "source": [
    "model.fit(X_train,y_train, epochs=1, batch_size=32, validation_split = 0.30, callbacks=callbacks_list)"
   ]
  },
  {
   "cell_type": "code",
   "execution_count": null,
   "metadata": {},
   "outputs": [],
   "source": [
    "pred=model.predict(X_test)\n",
    "idx=idx.set_index('IDLink')\n",
    "ArpitNeural4=pd.DataFrame(pred, columns=['SentimentTitle', 'SentimentHeadline'], index=idx.index)\n",
    "ArpitNeural4.to_csv('/kaggle/working/ArpitNeural4.csv')"
   ]
  },
  {
   "cell_type": "markdown",
   "metadata": {},
   "source": [
    "# With this i got an accuracy of 88.26"
   ]
  },
  {
   "cell_type": "markdown",
   "metadata": {},
   "source": [
    "I used various Neural models with multiple layers, trying to find the best accuracy.\n",
    "Topic and Source were only. increasing the complexity of the models so dropped them."
   ]
  },
  {
   "cell_type": "code",
   "execution_count": null,
   "metadata": {},
   "outputs": [],
   "source": []
  },
  {
   "cell_type": "markdown",
   "metadata": {},
   "source": [
    "## I used multiple combinations of Features with various models, of all of them some I have shown which are the best.  Rest was everything when i was playing with the data."
   ]
  },
  {
   "cell_type": "code",
   "execution_count": null,
   "metadata": {},
   "outputs": [],
   "source": []
  }
 ],
 "metadata": {
  "accelerator": "TPU",
  "colab": {
   "collapsed_sections": [],
   "machine_shape": "hm",
   "name": "Arpit.ipynb",
   "provenance": []
  },
  "kernelspec": {
   "display_name": "Python 3",
   "language": "python",
   "name": "python3"
  },
  "language_info": {
   "codemirror_mode": {
    "name": "ipython",
    "version": 3
   },
   "file_extension": ".py",
   "mimetype": "text/x-python",
   "name": "python",
   "nbconvert_exporter": "python",
   "pygments_lexer": "ipython3",
   "version": "3.7.1"
  }
 },
 "nbformat": 4,
 "nbformat_minor": 4
}
