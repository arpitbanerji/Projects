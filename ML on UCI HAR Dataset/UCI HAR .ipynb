{
 "cells": [
  {
   "cell_type": "markdown",
   "metadata": {},
   "source": [
    "# Task A- Understanding the Data"
   ]
  },
  {
   "cell_type": "code",
   "execution_count": 66,
   "metadata": {},
   "outputs": [],
   "source": [
    "import numpy as np\n",
    "import pandas as pd\n",
    "import matplotlib.pyplot as plt\n",
    "import matplotlib.cm as cm\n",
    "%matplotlib inline\n",
    "from sklearn.svm import SVC\n",
    "from sklearn.linear_model import LogisticRegression\n",
    "from sklearn.neighbors import KNeighborsClassifier\n",
    "from sklearn.ensemble import RandomForestClassifier\n",
    "from sklearn.metrics import accuracy_score\n",
    "from sklearn.metrics import confusion_matrix\n",
    "from sklearn.preprocessing import LabelEncoder\n",
    "from sklearn.linear_model import SGDClassifier\n",
    "from sklearn.metrics import f1_score\n",
    "from sklearn.model_selection import cross_val_score  \n",
    "#importing the libraries used in the project"
   ]
  },
  {
   "cell_type": "code",
   "execution_count": 18,
   "metadata": {},
   "outputs": [],
   "source": [
    "training_data = pd.read_csv('train.csv')\n",
    "testing_data = pd.read_csv('test.csv') #loading the data into a dataframe."
   ]
  },
  {
   "cell_type": "code",
   "execution_count": 19,
   "metadata": {},
   "outputs": [
    {
     "data": {
      "text/html": [
       "<div>\n",
       "<style scoped>\n",
       "    .dataframe tbody tr th:only-of-type {\n",
       "        vertical-align: middle;\n",
       "    }\n",
       "\n",
       "    .dataframe tbody tr th {\n",
       "        vertical-align: top;\n",
       "    }\n",
       "\n",
       "    .dataframe thead th {\n",
       "        text-align: right;\n",
       "    }\n",
       "</style>\n",
       "<table border=\"1\" class=\"dataframe\">\n",
       "  <thead>\n",
       "    <tr style=\"text-align: right;\">\n",
       "      <th></th>\n",
       "      <th>tBodyAcc-mean()-X</th>\n",
       "      <th>tBodyAcc-mean()-Y</th>\n",
       "      <th>tBodyAcc-mean()-Z</th>\n",
       "      <th>tBodyAcc-std()-X</th>\n",
       "      <th>tBodyAcc-std()-Y</th>\n",
       "      <th>tBodyAcc-std()-Z</th>\n",
       "      <th>tBodyAcc-mad()-X</th>\n",
       "      <th>tBodyAcc-mad()-Y</th>\n",
       "      <th>tBodyAcc-mad()-Z</th>\n",
       "      <th>tBodyAcc-max()-X</th>\n",
       "      <th>...</th>\n",
       "      <th>fBodyBodyGyroJerkMag-kurtosis()</th>\n",
       "      <th>angle(tBodyAccMean,gravity)</th>\n",
       "      <th>angle(tBodyAccJerkMean),gravityMean)</th>\n",
       "      <th>angle(tBodyGyroMean,gravityMean)</th>\n",
       "      <th>angle(tBodyGyroJerkMean,gravityMean)</th>\n",
       "      <th>angle(X,gravityMean)</th>\n",
       "      <th>angle(Y,gravityMean)</th>\n",
       "      <th>angle(Z,gravityMean)</th>\n",
       "      <th>subject</th>\n",
       "      <th>Activity</th>\n",
       "    </tr>\n",
       "  </thead>\n",
       "  <tbody>\n",
       "    <tr>\n",
       "      <th>0</th>\n",
       "      <td>0.288585</td>\n",
       "      <td>-0.020294</td>\n",
       "      <td>-0.132905</td>\n",
       "      <td>-0.995279</td>\n",
       "      <td>-0.983111</td>\n",
       "      <td>-0.913526</td>\n",
       "      <td>-0.995112</td>\n",
       "      <td>-0.983185</td>\n",
       "      <td>-0.923527</td>\n",
       "      <td>-0.934724</td>\n",
       "      <td>...</td>\n",
       "      <td>-0.710304</td>\n",
       "      <td>-0.112754</td>\n",
       "      <td>0.030400</td>\n",
       "      <td>-0.464761</td>\n",
       "      <td>-0.018446</td>\n",
       "      <td>-0.841247</td>\n",
       "      <td>0.179941</td>\n",
       "      <td>-0.058627</td>\n",
       "      <td>1</td>\n",
       "      <td>STANDING</td>\n",
       "    </tr>\n",
       "    <tr>\n",
       "      <th>1</th>\n",
       "      <td>0.278419</td>\n",
       "      <td>-0.016411</td>\n",
       "      <td>-0.123520</td>\n",
       "      <td>-0.998245</td>\n",
       "      <td>-0.975300</td>\n",
       "      <td>-0.960322</td>\n",
       "      <td>-0.998807</td>\n",
       "      <td>-0.974914</td>\n",
       "      <td>-0.957686</td>\n",
       "      <td>-0.943068</td>\n",
       "      <td>...</td>\n",
       "      <td>-0.861499</td>\n",
       "      <td>0.053477</td>\n",
       "      <td>-0.007435</td>\n",
       "      <td>-0.732626</td>\n",
       "      <td>0.703511</td>\n",
       "      <td>-0.844788</td>\n",
       "      <td>0.180289</td>\n",
       "      <td>-0.054317</td>\n",
       "      <td>1</td>\n",
       "      <td>STANDING</td>\n",
       "    </tr>\n",
       "    <tr>\n",
       "      <th>2</th>\n",
       "      <td>0.279653</td>\n",
       "      <td>-0.019467</td>\n",
       "      <td>-0.113462</td>\n",
       "      <td>-0.995380</td>\n",
       "      <td>-0.967187</td>\n",
       "      <td>-0.978944</td>\n",
       "      <td>-0.996520</td>\n",
       "      <td>-0.963668</td>\n",
       "      <td>-0.977469</td>\n",
       "      <td>-0.938692</td>\n",
       "      <td>...</td>\n",
       "      <td>-0.760104</td>\n",
       "      <td>-0.118559</td>\n",
       "      <td>0.177899</td>\n",
       "      <td>0.100699</td>\n",
       "      <td>0.808529</td>\n",
       "      <td>-0.848933</td>\n",
       "      <td>0.180637</td>\n",
       "      <td>-0.049118</td>\n",
       "      <td>1</td>\n",
       "      <td>STANDING</td>\n",
       "    </tr>\n",
       "    <tr>\n",
       "      <th>3</th>\n",
       "      <td>0.279174</td>\n",
       "      <td>-0.026201</td>\n",
       "      <td>-0.123283</td>\n",
       "      <td>-0.996091</td>\n",
       "      <td>-0.983403</td>\n",
       "      <td>-0.990675</td>\n",
       "      <td>-0.997099</td>\n",
       "      <td>-0.982750</td>\n",
       "      <td>-0.989302</td>\n",
       "      <td>-0.938692</td>\n",
       "      <td>...</td>\n",
       "      <td>-0.482845</td>\n",
       "      <td>-0.036788</td>\n",
       "      <td>-0.012892</td>\n",
       "      <td>0.640011</td>\n",
       "      <td>-0.485366</td>\n",
       "      <td>-0.848649</td>\n",
       "      <td>0.181935</td>\n",
       "      <td>-0.047663</td>\n",
       "      <td>1</td>\n",
       "      <td>STANDING</td>\n",
       "    </tr>\n",
       "    <tr>\n",
       "      <th>4</th>\n",
       "      <td>0.276629</td>\n",
       "      <td>-0.016570</td>\n",
       "      <td>-0.115362</td>\n",
       "      <td>-0.998139</td>\n",
       "      <td>-0.980817</td>\n",
       "      <td>-0.990482</td>\n",
       "      <td>-0.998321</td>\n",
       "      <td>-0.979672</td>\n",
       "      <td>-0.990441</td>\n",
       "      <td>-0.942469</td>\n",
       "      <td>...</td>\n",
       "      <td>-0.699205</td>\n",
       "      <td>0.123320</td>\n",
       "      <td>0.122542</td>\n",
       "      <td>0.693578</td>\n",
       "      <td>-0.615971</td>\n",
       "      <td>-0.847865</td>\n",
       "      <td>0.185151</td>\n",
       "      <td>-0.043892</td>\n",
       "      <td>1</td>\n",
       "      <td>STANDING</td>\n",
       "    </tr>\n",
       "  </tbody>\n",
       "</table>\n",
       "<p>5 rows × 563 columns</p>\n",
       "</div>"
      ],
      "text/plain": [
       "   tBodyAcc-mean()-X  tBodyAcc-mean()-Y  tBodyAcc-mean()-Z  tBodyAcc-std()-X  \\\n",
       "0           0.288585          -0.020294          -0.132905         -0.995279   \n",
       "1           0.278419          -0.016411          -0.123520         -0.998245   \n",
       "2           0.279653          -0.019467          -0.113462         -0.995380   \n",
       "3           0.279174          -0.026201          -0.123283         -0.996091   \n",
       "4           0.276629          -0.016570          -0.115362         -0.998139   \n",
       "\n",
       "   tBodyAcc-std()-Y  tBodyAcc-std()-Z  tBodyAcc-mad()-X  tBodyAcc-mad()-Y  \\\n",
       "0         -0.983111         -0.913526         -0.995112         -0.983185   \n",
       "1         -0.975300         -0.960322         -0.998807         -0.974914   \n",
       "2         -0.967187         -0.978944         -0.996520         -0.963668   \n",
       "3         -0.983403         -0.990675         -0.997099         -0.982750   \n",
       "4         -0.980817         -0.990482         -0.998321         -0.979672   \n",
       "\n",
       "   tBodyAcc-mad()-Z  tBodyAcc-max()-X  ...  fBodyBodyGyroJerkMag-kurtosis()  \\\n",
       "0         -0.923527         -0.934724  ...                        -0.710304   \n",
       "1         -0.957686         -0.943068  ...                        -0.861499   \n",
       "2         -0.977469         -0.938692  ...                        -0.760104   \n",
       "3         -0.989302         -0.938692  ...                        -0.482845   \n",
       "4         -0.990441         -0.942469  ...                        -0.699205   \n",
       "\n",
       "   angle(tBodyAccMean,gravity)  angle(tBodyAccJerkMean),gravityMean)  \\\n",
       "0                    -0.112754                              0.030400   \n",
       "1                     0.053477                             -0.007435   \n",
       "2                    -0.118559                              0.177899   \n",
       "3                    -0.036788                             -0.012892   \n",
       "4                     0.123320                              0.122542   \n",
       "\n",
       "   angle(tBodyGyroMean,gravityMean)  angle(tBodyGyroJerkMean,gravityMean)  \\\n",
       "0                         -0.464761                             -0.018446   \n",
       "1                         -0.732626                              0.703511   \n",
       "2                          0.100699                              0.808529   \n",
       "3                          0.640011                             -0.485366   \n",
       "4                          0.693578                             -0.615971   \n",
       "\n",
       "   angle(X,gravityMean)  angle(Y,gravityMean)  angle(Z,gravityMean)  subject  \\\n",
       "0             -0.841247              0.179941             -0.058627        1   \n",
       "1             -0.844788              0.180289             -0.054317        1   \n",
       "2             -0.848933              0.180637             -0.049118        1   \n",
       "3             -0.848649              0.181935             -0.047663        1   \n",
       "4             -0.847865              0.185151             -0.043892        1   \n",
       "\n",
       "   Activity  \n",
       "0  STANDING  \n",
       "1  STANDING  \n",
       "2  STANDING  \n",
       "3  STANDING  \n",
       "4  STANDING  \n",
       "\n",
       "[5 rows x 563 columns]"
      ]
     },
     "execution_count": 19,
     "metadata": {},
     "output_type": "execute_result"
    }
   ],
   "source": [
    "training_data.head(5)   #viewing the data."
   ]
  },
  {
   "cell_type": "code",
   "execution_count": 20,
   "metadata": {},
   "outputs": [],
   "source": [
    "y_train = training_data['Activity'] #getting the target column in the y_traning part\n",
    "X_train = training_data.drop(columns = ['Activity', 'subject']) #dropping the Target column from the X_train and subject which is of no use.\n",
    "#similar with testing data.\n",
    "y_test = testing_data['Activity']\n",
    "X_test = testing_data.drop(columns = ['Activity', 'subject']) "
   ]
  },
  {
   "cell_type": "code",
   "execution_count": 68,
   "metadata": {},
   "outputs": [
    {
     "data": {
      "text/plain": [
       "(7352, 561)"
      ]
     },
     "execution_count": 68,
     "metadata": {},
     "output_type": "execute_result"
    }
   ],
   "source": [
    "X_train.shape"
   ]
  },
  {
   "cell_type": "code",
   "execution_count": 23,
   "metadata": {},
   "outputs": [
    {
     "data": {
      "text/plain": [
       "(7352,)"
      ]
     },
     "execution_count": 23,
     "metadata": {},
     "output_type": "execute_result"
    }
   ],
   "source": [
    "y_train.shape"
   ]
  },
  {
   "cell_type": "code",
   "execution_count": 24,
   "metadata": {},
   "outputs": [
    {
     "data": {
      "text/plain": [
       "(2947, 561)"
      ]
     },
     "execution_count": 24,
     "metadata": {},
     "output_type": "execute_result"
    }
   ],
   "source": [
    "X_test.shape"
   ]
  },
  {
   "cell_type": "code",
   "execution_count": 25,
   "metadata": {},
   "outputs": [
    {
     "data": {
      "text/plain": [
       "(2947,)"
      ]
     },
     "execution_count": 25,
     "metadata": {},
     "output_type": "execute_result"
    }
   ],
   "source": [
    "y_test.shape"
   ]
  },
  {
   "cell_type": "code",
   "execution_count": 26,
   "metadata": {},
   "outputs": [
    {
     "data": {
      "text/plain": [
       "([<matplotlib.patches.Wedge at 0x1a182f26d8>,\n",
       "  <matplotlib.patches.Wedge at 0x1a182f2e80>,\n",
       "  <matplotlib.patches.Wedge at 0x1a182fa5c0>,\n",
       "  <matplotlib.patches.Wedge at 0x1a182facc0>,\n",
       "  <matplotlib.patches.Wedge at 0x1a18303400>,\n",
       "  <matplotlib.patches.Wedge at 0x1a18303b00>],\n",
       " [Text(0.9071064061014833, 0.6222201925441275, 'LAYING'),\n",
       "  Text(-0.23874635466468208, 1.073778458591122, 'SITTING'),\n",
       "  Text(-1.0745883152841482, 0.2350743555872831, 'STANDING'),\n",
       "  Text(-0.7193129027755119, -0.832219290752544, 'WALKING'),\n",
       "  Text(0.29301586483507763, -1.0602554894717366, 'WALKING_DOWNSTAIRS'),\n",
       "  Text(1.0038008332903794, -0.4498709671511825, 'WALKING_UPSTAIRS')],\n",
       " [Text(0.4947853124189908, 0.3393928322967968, '19.14'),\n",
       "  Text(-0.13022528436255384, 0.5856973410497028, '18.69'),\n",
       "  Text(-0.5861390810640807, 0.12822237577488166, '17.49'),\n",
       "  Text(-0.3923524924230064, -0.453937794955933, '16.68'),\n",
       "  Text(0.15982683536458778, -0.5783211760754926, '14.59'),\n",
       "  Text(0.5475277272492978, -0.245384163900645, '13.41')])"
      ]
     },
     "execution_count": 26,
     "metadata": {},
     "output_type": "execute_result"
    },
    {
     "data": {
      "image/png": "[encoded data removed]",
      "text/plain": [
       "<Figure size 360x360 with 1 Axes>"
      ]
     },
     "metadata": {},
     "output_type": "display_data"
    }
   ],
   "source": [
    "count_of_each_activity = np.array(y_train2.value_counts())\n",
    "activities = sorted(y_train2.unique())\n",
    "plt.rcParams.update({'figure.figsize': [5, 5], 'font.size': 24})\n",
    "plt.pie(count_of_each_activity, labels = activities, autopct = '%0.2f') #getting the percentage of values for each label.\n",
    "#Checking for Data distribution, if data is not equally distributed then we can do sampling .... which is not there in this case."
   ]
  },
  {
   "cell_type": "code",
   "execution_count": 27,
   "metadata": {},
   "outputs": [
    {
     "data": {
      "text/plain": [
       "<BarContainer object of 3 artists>"
      ]
     },
     "execution_count": 27,
     "metadata": {},
     "output_type": "execute_result"
    },
    {
     "data": {
      "image/png": "[encoded data removed]",
      "text/plain": [
       "<Figure size 432x432 with 1 Axes>"
      ]
     },
     "metadata": {
      "needs_background": "light"
     },
     "output_type": "display_data"
    }
   ],
   "source": [
    "acc = 0\n",
    "gyro = 0\n",
    "others = 0\n",
    "for column in X_train.columns:\n",
    "    if 'Acc' in str(column):\n",
    "        acc += 1\n",
    "    elif 'Gyro' in str(column):\n",
    "        gyro += 1\n",
    "    else:\n",
    "        others += 1\n",
    "\n",
    "plt.rcParams.update({'figure.figsize': [6, 6], 'font.size': 16})\n",
    "plt.bar(['Accelerometer', 'Gyroscope', 'Others'], [acc, gyro, others], color = ('y', 'r', 'b'))\n",
    "#getting a count for Sensor readings."
   ]
  },
  {
   "cell_type": "code",
   "execution_count": 42,
   "metadata": {},
   "outputs": [],
   "source": [
    "le= LabelEncoder()\n",
    "\n",
    "y_train2=le.fit_transform(y_train)\n",
    "\n",
    "y_test2=le.fit_transform(y_test)\n",
    "#We are using label encoders so that the string values in the target column are changed into numbers so that we can feed it to the model."
   ]
  },
  {
   "cell_type": "code",
   "execution_count": 46,
   "metadata": {},
   "outputs": [
    {
     "data": {
      "text/plain": [
       "array([2, 2, 2, ..., 5, 5, 5])"
      ]
     },
     "execution_count": 46,
     "metadata": {},
     "output_type": "execute_result"
    }
   ],
   "source": [
    "y_train2 "
   ]
  },
  {
   "cell_type": "markdown",
   "metadata": {},
   "source": [
    "# Task B: K-Nearest Neighbor Classification"
   ]
  },
  {
   "cell_type": "code",
   "execution_count": 240,
   "metadata": {},
   "outputs": [],
   "source": [
    "k_range = range(1, 50) #generating a range for the number of neighbours in knn."
   ]
  },
  {
   "cell_type": "code",
   "execution_count": 241,
   "metadata": {},
   "outputs": [],
   "source": [
    "k_scores = [] #creating an empty list so than we can append the f1-scores of the knn model."
   ]
  },
  {
   "cell_type": "code",
   "execution_count": 242,
   "metadata": {},
   "outputs": [
    {
     "name": "stdout",
     "output_type": "stream",
     "text": [
      "[0.8765719901946026, 0.8531905346938761, 0.8878911986611385, 0.8769952726011059, 0.8915903693527124, 0.8834595446393845, 0.893140510919508, 0.8891963168802892, 0.8944192332021377, 0.8897402339780829, 0.8947212031251146, 0.8917800730517194, 0.8960114052516737, 0.8940761749598755, 0.8963994804482575, 0.8940560260348269, 0.8957779833768214, 0.8946379732011016, 0.8965482210265145, 0.8954859349068942, 0.8978931536661243, 0.8958995152056841, 0.8978571186704922, 0.8960342410642157, 0.8974623220614996, 0.8955434506821325, 0.8958613621443758, 0.8937407490232502, 0.8932543917473705, 0.8926661968411873, 0.894588230080257, 0.8936575518375367, 0.8946800568613842, 0.8936428612956714, 0.8945509553012518, 0.8929681140373379, 0.8954157863539869, 0.8934376436749354, 0.8950706697874848, 0.8935620185170674, 0.8949878865237441, 0.892900285404498, 0.8935633987786012, 0.8928483036792597, 0.893915270561255, 0.892642785844828, 0.8934293480728727, 0.8918913811810347, 0.8929992772452134]\n"
     ]
    }
   ],
   "source": [
    "for k in k_range:\n",
    "    knn = KNeighborsClassifier(n_neighbors=k)  #interating for 50 times in a loop.\n",
    "    scores = cross_val_score(knn, X_train, y_train2, cv=10, scoring='f1_macro') #using cross validation with 10 folds and scoring metric of f1 macro.\n",
    "    k_scores.append(scores.mean()) #aputting all the f1 scores into the list above created.\n",
    "print(k_scores)"
   ]
  },
  {
   "cell_type": "code",
   "execution_count": 243,
   "metadata": {},
   "outputs": [
    {
     "name": "stdout",
     "output_type": "stream",
     "text": [
      "Length of list 49\n",
      "Max of list 0.8978931536661243\n"
     ]
    }
   ],
   "source": [
    "print('Length of list', len(k_scores))\n",
    "print('Max of list', max(k_scores)) #checking the max of the f1-score to fetch the best k in knn."
   ]
  },
  {
   "cell_type": "code",
   "execution_count": 249,
   "metadata": {},
   "outputs": [],
   "source": [
    "for k in k_scores:\n",
    "    if k==max(k_scores):\n",
    "        s=k_scores.index(max(k_scores))     #fetching the best k"
   ]
  },
  {
   "cell_type": "code",
   "execution_count": 250,
   "metadata": {},
   "outputs": [
    {
     "data": {
      "text/plain": [
       "20"
      ]
     },
     "execution_count": 250,
     "metadata": {},
     "output_type": "execute_result"
    }
   ],
   "source": [
    "s"
   ]
  },
  {
   "cell_type": "code",
   "execution_count": 244,
   "metadata": {},
   "outputs": [
    {
     "data": {
      "text/plain": [
       "Text(0, 0.5, 'Cross-validated accuracy')"
      ]
     },
     "execution_count": 244,
     "metadata": {},
     "output_type": "execute_result"
    },
    {
     "data": {
      "image/png": "[encoded data removed]",
      "text/plain": [
       "<Figure size 432x288 with 1 Axes>"
      ]
     },
     "metadata": {
      "needs_background": "light"
     },
     "output_type": "display_data"
    }
   ],
   "source": [
    "%matplotlib inline\n",
    "plt.plot(k_range, k_scores)\n",
    "plt.xlabel('Value of K for KNN') \n",
    "plt.ylabel('Cross-validated accuracy')     #plotting a graph between number of k and thier corresponding f1-scores."
   ]
  },
  {
   "cell_type": "code",
   "execution_count": 251,
   "metadata": {},
   "outputs": [
    {
     "data": {
      "text/plain": [
       "KNeighborsClassifier(algorithm='auto', leaf_size=30, metric='minkowski',\n",
       "                     metric_params=None, n_jobs=None, n_neighbors=20, p=2,\n",
       "                     weights='uniform')"
      ]
     },
     "execution_count": 251,
     "metadata": {},
     "output_type": "execute_result"
    }
   ],
   "source": [
    "knn = KNeighborsClassifier(n_neighbors=20)\n",
    "knn.fit(X_train, y_train2)    #Now that we have got the optimal value of K we are assigning a new model with that k."
   ]
  },
  {
   "cell_type": "code",
   "execution_count": 252,
   "metadata": {},
   "outputs": [],
   "source": [
    "prediction=knn.predict(X_test) #predicting with the model created."
   ]
  },
  {
   "cell_type": "code",
   "execution_count": 253,
   "metadata": {},
   "outputs": [],
   "source": [
    "from sklearn.metrics import f1_score"
   ]
  },
  {
   "cell_type": "code",
   "execution_count": 254,
   "metadata": {
    "scrolled": true
   },
   "outputs": [
    {
     "data": {
      "text/plain": [
       "0.9025198403249137"
      ]
     },
     "execution_count": 254,
     "metadata": {},
     "output_type": "execute_result"
    }
   ],
   "source": [
    "f1_score(y_test2, prediction,average='weighted') #evaluating the model with f1-score again."
   ]
  },
  {
   "cell_type": "markdown",
   "metadata": {},
   "source": [
    "# Task C: Multiclass Logistic Regression with Elastic Net"
   ]
  },
  {
   "cell_type": "code",
   "execution_count": 52,
   "metadata": {},
   "outputs": [],
   "source": [
    "alpha=[1e-4,3e-4,1e-3,3e-3, 1e-2,3e-2]\n",
    "l1_ratio=[0,0.15,0.5,0.7,1]         #initializing the values of alpha and l1 from the problem."
   ]
  },
  {
   "cell_type": "code",
   "execution_count": 58,
   "metadata": {},
   "outputs": [],
   "source": [
    "f_scores=[]"
   ]
  },
  {
   "cell_type": "code",
   "execution_count": 59,
   "metadata": {},
   "outputs": [
    {
     "name": "stdout",
     "output_type": "stream",
     "text": [
      "[0.9263779258421305, 0.9354689385966143, 0.9401037952992052, 0.938034213970707, 0.9325113983199016, 0.9307512356179364, 0.9447004741142386, 0.9431658493719244, 0.935879203380488, 0.9299633882467763, 0.9433349926361254, 0.9414298770863582, 0.9452439194161368, 0.9363122963616621, 0.9262169242624203, 0.9318770126447296, 0.9397181040551257, 0.9337367687515551, 0.9345705975705936, 0.9194545355841448, 0.9296217638440808, 0.9297283629472328, 0.9199419413979241, 0.9127479560254764, 0.9031194514426332, 0.917642509850998, 0.9093223946850308, 0.8688358609577824, 0.8483249459060884, 0.7146476285662563]\n"
     ]
    }
   ],
   "source": [
    "for a in alpha:\n",
    "    for l1 in l1_ratio:   #permutating with for loop to find the best combination of alpha and l1.\n",
    "        sgd=SGDClassifier(penalty=\"ElasticNet\", alpha=a, l1_ratio=l1)     #using the logistic regression with Elasticnet regularization.\n",
    "        sgd_scores=cross_val_score(sgd, X_train, y_train2, cv=10, scoring='f1_macro') \n",
    "        f_scores.append(sgd_scores.mean())\n",
    "print(f_scores)"
   ]
  },
  {
   "cell_type": "code",
   "execution_count": 60,
   "metadata": {},
   "outputs": [
    {
     "name": "stdout",
     "output_type": "stream",
     "text": [
      "Max of list 0.9452439194161368\n"
     ]
    }
   ],
   "source": [
    "print('Max of list', max(f_scores))"
   ]
  },
  {
   "cell_type": "code",
   "execution_count": 61,
   "metadata": {},
   "outputs": [
    {
     "data": {
      "text/plain": [
       "12"
      ]
     },
     "execution_count": 61,
     "metadata": {},
     "output_type": "execute_result"
    }
   ],
   "source": [
    "f_scores.index(max(f_scores))"
   ]
  },
  {
   "cell_type": "code",
   "execution_count": 62,
   "metadata": {},
   "outputs": [],
   "source": [
    "best_alpha=1e-3\n",
    "best_l1=0.7"
   ]
  },
  {
   "cell_type": "code",
   "execution_count": 69,
   "metadata": {},
   "outputs": [],
   "source": [
    "lstnew=[]\n",
    "for a in alpha:\n",
    "    for l1 in l1_ratio:\n",
    "        lstnew.append([]) "
   ]
  },
  {
   "cell_type": "code",
   "execution_count": 72,
   "metadata": {},
   "outputs": [],
   "source": [
    "j=0\n",
    "for a in alpha:\n",
    "    for l1 in l1_ratio:\n",
    "        lstnew[j].append(a)\n",
    "        j=j+1               "
   ]
  },
  {
   "cell_type": "code",
   "execution_count": 73,
   "metadata": {},
   "outputs": [],
   "source": [
    "j=0\n",
    "for a in alpha:\n",
    "    for l1 in l1_ratio:\n",
    "        lstnew[j].append(l1)\n",
    "        j=j+1  "
   ]
  },
  {
   "cell_type": "code",
   "execution_count": 76,
   "metadata": {},
   "outputs": [],
   "source": [
    "for h in range((len(alpha)*len(l1_ratio))) :\n",
    "        lstnew[h].append(f_scores[h])"
   ]
  },
  {
   "cell_type": "code",
   "execution_count": 79,
   "metadata": {},
   "outputs": [],
   "source": [
    "x1=[]\n",
    "y1=[]\n",
    "z1=[]\n",
    "for i in range((len(alpha)*len(l1_ratio))):\n",
    "    x1.append(lstnew[i][0])      \n",
    "    y1.append(lstnew[i][1])      \n",
    "    z1.append(lstnew[i][2])  "
   ]
  },
  {
   "cell_type": "code",
   "execution_count": 87,
   "metadata": {},
   "outputs": [
    {
     "data": {
      "image/png": "[encoded data removed]",
      "text/plain": [
       "<Figure size 432x288 with 1 Axes>"
      ]
     },
     "metadata": {
      "needs_background": "light"
     },
     "output_type": "display_data"
    }
   ],
   "source": [
    "from mpl_toolkits import mplot3d\n",
    "\n",
    "fig = plt.figure()\n",
    "ax = plt.axes(projection='3d')\n",
    "ax.plot_trisurf(x1,y1,z1)\n",
    "ax.set_title('Surface plot')\n",
    "ax.set_xlabel('Alpha')\n",
    "ax.set_ylabel('l1_ratio')\n",
    "ax.set_zlabel('F-score')\n",
    "plt.show() "
   ]
  },
  {
   "cell_type": "code",
   "execution_count": 63,
   "metadata": {},
   "outputs": [
    {
     "data": {
      "text/plain": [
       "SGDClassifier(alpha=0.001, average=False, class_weight=None,\n",
       "              early_stopping=False, epsilon=0.1, eta0=0.0, fit_intercept=True,\n",
       "              l1_ratio=0.7, learning_rate='optimal', loss='hinge',\n",
       "              max_iter=1000, n_iter_no_change=5, n_jobs=None,\n",
       "              penalty='ElasticNet', power_t=0.5, random_state=None,\n",
       "              shuffle=True, tol=0.001, validation_fraction=0.1, verbose=0,\n",
       "              warm_start=False)"
      ]
     },
     "execution_count": 63,
     "metadata": {},
     "output_type": "execute_result"
    }
   ],
   "source": [
    "sgd2=SGDClassifier(penalty=\"ElasticNet\", alpha=best_alpha, l1_ratio=best_l1)\n",
    "sgd2.fit(X_train, y_train2)"
   ]
  },
  {
   "cell_type": "code",
   "execution_count": 64,
   "metadata": {},
   "outputs": [],
   "source": [
    "predsgd=sgd2.predict(X_test)"
   ]
  },
  {
   "cell_type": "code",
   "execution_count": 67,
   "metadata": {
    "scrolled": true
   },
   "outputs": [
    {
     "data": {
      "text/plain": [
       "0.9475299860481882"
      ]
     },
     "execution_count": 67,
     "metadata": {},
     "output_type": "execute_result"
    }
   ],
   "source": [
    "f1_score(y_test2, predsgd,average='weighted')"
   ]
  },
  {
   "cell_type": "code",
   "execution_count": 82,
   "metadata": {},
   "outputs": [
    {
     "data": {
      "text/plain": [
       "array([[537,   0,   0,   0,   0,   0],\n",
       "       [  0, 417,  71,   0,   0,   3],\n",
       "       [  0,  15, 515,   2,   0,   0],\n",
       "       [  0,   0,   0, 486,   4,   6],\n",
       "       [  0,   1,   3,   3, 400,  13],\n",
       "       [  0,   0,   0,  22,  11, 438]])"
      ]
     },
     "execution_count": 82,
     "metadata": {},
     "output_type": "execute_result"
    }
   ],
   "source": [
    "confusion_matrix(y_test2, predsgd)"
   ]
  },
  {
   "cell_type": "code",
   "execution_count": 86,
   "metadata": {},
   "outputs": [
    {
     "data": {
      "text/plain": [
       "0.9477434679334917"
      ]
     },
     "execution_count": 86,
     "metadata": {},
     "output_type": "execute_result"
    }
   ],
   "source": [
    "accuracy_score(y_test2, predsgd)"
   ]
  },
  {
   "cell_type": "markdown",
   "metadata": {},
   "source": [
    "# Task D: Support Vector Machine (RBF Kernel)"
   ]
  },
  {
   "cell_type": "code",
   "execution_count": 330,
   "metadata": {},
   "outputs": [],
   "source": [
    "i_range=[1e-3, 1e-4]    #initializing gamma \n",
    "c_range=[1,10,100,1000]   ##initializing Cost function      "
   ]
  },
  {
   "cell_type": "code",
   "execution_count": 331,
   "metadata": {},
   "outputs": [
    {
     "data": {
      "text/plain": [
       "(7352, 561)"
      ]
     },
     "execution_count": 331,
     "metadata": {},
     "output_type": "execute_result"
    }
   ],
   "source": [
    "X_train.shape"
   ]
  },
  {
   "cell_type": "code",
   "execution_count": 332,
   "metadata": {},
   "outputs": [
    {
     "data": {
      "text/plain": [
       "(7352,)"
      ]
     },
     "execution_count": 332,
     "metadata": {},
     "output_type": "execute_result"
    }
   ],
   "source": [
    "y_train2.shape"
   ]
  },
  {
   "cell_type": "code",
   "execution_count": 333,
   "metadata": {},
   "outputs": [],
   "source": [
    "svc_scores=[] #to get the score of 10 cv , when used with the Support vector classifier with the given parameters.\n",
    "sv_scores=[]  #the average of the scores of the every 10 cv with a particular combination of c and i is appended in this list."
   ]
  },
  {
   "cell_type": "code",
   "execution_count": 334,
   "metadata": {},
   "outputs": [
    {
     "name": "stdout",
     "output_type": "stream",
     "text": [
      "[0.9062493347058573, 0.7916066398942527, 0.9418178418507412, 0.9064341099475091, 0.9486829205354536, 0.9408281375549716, 0.9503034110992242, 0.9456119472253365]\n"
     ]
    }
   ],
   "source": [
    "for c in c_range :\n",
    "    for i in i_range:\n",
    "        clf = SVC(C= c, kernel='rbf', gamma= i)\n",
    "        svc_scores = cross_val_score(clf,X_train,y_train2, cv=10, scoring='f1_macro')\n",
    "        sv_scores.append(svc_scores.mean())\n",
    "print(sv_scores)"
   ]
  },
  {
   "cell_type": "code",
   "execution_count": 336,
   "metadata": {},
   "outputs": [
    {
     "name": "stdout",
     "output_type": "stream",
     "text": [
      "Max of list 0.9503034110992242\n"
     ]
    }
   ],
   "source": [
    "print('Max of list', max(sv_scores))"
   ]
  },
  {
   "cell_type": "code",
   "execution_count": 354,
   "metadata": {},
   "outputs": [],
   "source": [
    "lst=[]\n",
    "for c in c_range :\n",
    "    for i in i_range:\n",
    "        lst.append([])     #Creating an empty list of size c*i to further store the combination of cost function and gamma with their F1- Scores."
   ]
  },
  {
   "cell_type": "code",
   "execution_count": 355,
   "metadata": {},
   "outputs": [],
   "source": [
    "j=0\n",
    "for c in c_range :\n",
    "    for i in i_range:\n",
    "        lst[j].append(c)\n",
    "        j=j+1               #appending the values of Cost function in the empty list created Above."
   ]
  },
  {
   "cell_type": "code",
   "execution_count": 356,
   "metadata": {},
   "outputs": [],
   "source": [
    "j=0\n",
    "for c in c_range :\n",
    "    for i in i_range:\n",
    "        lst[j].append(i)\n",
    "        j=j+1             #appending the values of Gamma in the list corresponding with their Cost function."
   ]
  },
  {
   "cell_type": "code",
   "execution_count": 357,
   "metadata": {},
   "outputs": [
    {
     "data": {
      "text/plain": [
       "[[1, 0.001],\n",
       " [1, 0.0001],\n",
       " [10, 0.001],\n",
       " [10, 0.0001],\n",
       " [100, 0.001],\n",
       " [100, 0.0001],\n",
       " [1000, 0.001],\n",
       " [1000, 0.0001]]"
      ]
     },
     "execution_count": 357,
     "metadata": {},
     "output_type": "execute_result"
    }
   ],
   "source": [
    "lst   #It looks as follows."
   ]
  },
  {
   "cell_type": "code",
   "execution_count": 358,
   "metadata": {},
   "outputs": [],
   "source": [
    "for h in range(8) :\n",
    "        lst[h].append(sv_scores[h])      #appending the values of f1 scores in the list with their corresponding values."
   ]
  },
  {
   "cell_type": "code",
   "execution_count": 359,
   "metadata": {},
   "outputs": [],
   "source": [
    "xi=[]\n",
    "yi=[]\n",
    "zi=[]\n",
    "for i in range(8):\n",
    "    xi.append(lst[i][0])      # in the xi we are storing all the values of cost function from the list\n",
    "    yi.append(lst[i][1])      # in the xy we are storing all the values of gamma from the list\n",
    "    zi.append(lst[i][2])      # in the xz we are storing all the values of thier corresponding. f1- scores.\n",
    "    #All this is preprocessing of data to plot the surface plot."
   ]
  },
  {
   "cell_type": "code",
   "execution_count": 360,
   "metadata": {},
   "outputs": [
    {
     "name": "stdout",
     "output_type": "stream",
     "text": [
      "[1, 1, 10, 10, 100, 100, 1000, 1000]\n",
      "[0.001, 0.0001, 0.001, 0.0001, 0.001, 0.0001, 0.001, 0.0001]\n",
      "[0.9062493347058573, 0.7916066398942527, 0.9418178418507412, 0.9064341099475091, 0.9486829205354536, 0.9408281375549716, 0.9503034110992242, 0.9456119472253365]\n"
     ]
    }
   ],
   "source": [
    "print(xi)\n",
    "print(yi)\n",
    "print(zi)"
   ]
  },
  {
   "cell_type": "code",
   "execution_count": 362,
   "metadata": {},
   "outputs": [
    {
     "data": {
      "image/png": "[encoded data removed]",
      "text/plain": [
       "<Figure size 432x288 with 1 Axes>"
      ]
     },
     "metadata": {
      "needs_background": "light"
     },
     "output_type": "display_data"
    }
   ],
   "source": [
    "from mpl_toolkits import mplot3d\n",
    "\n",
    "fig = plt.figure()\n",
    "ax = plt.axes(projection='3d')\n",
    "ax.plot_trisurf(xi,yi,zi)\n",
    "ax.set_title('Surface plot')\n",
    "ax.set_xlabel('Cost-Function')\n",
    "ax.set_ylabel('Gamma')\n",
    "ax.set_zlabel('F-score')\n",
    "plt.show()      # with the values of xi,yi,zi we are plotting it on the surface plot."
   ]
  },
  {
   "cell_type": "code",
   "execution_count": 363,
   "metadata": {},
   "outputs": [
    {
     "data": {
      "text/plain": [
       "SVC(C=100, cache_size=200, class_weight=None, coef0=0.0,\n",
       "    decision_function_shape='ovr', degree=3, gamma=0.0001, kernel='rbf',\n",
       "    max_iter=-1, probability=False, random_state=None, shrinking=True,\n",
       "    tol=0.001, verbose=False)"
      ]
     },
     "execution_count": 363,
     "metadata": {},
     "output_type": "execute_result"
    }
   ],
   "source": [
    "clf2 = SVC(C= 100, kernel='rbf', gamma=0.0001)\n",
    "clf2.fit(X_train, y_train2)"
   ]
  },
  {
   "cell_type": "code",
   "execution_count": 364,
   "metadata": {},
   "outputs": [],
   "source": [
    "predsvc=clf2.predict(X_test)"
   ]
  },
  {
   "cell_type": "code",
   "execution_count": 368,
   "metadata": {},
   "outputs": [
    {
     "data": {
      "text/plain": [
       "0.9551114028018496"
      ]
     },
     "execution_count": 368,
     "metadata": {},
     "output_type": "execute_result"
    }
   ],
   "source": [
    "f1_score(y_test2, predsvc,average='weighted')"
   ]
  },
  {
   "cell_type": "code",
   "execution_count": null,
   "metadata": {},
   "outputs": [],
   "source": []
  },
  {
   "cell_type": "markdown",
   "metadata": {},
   "source": [
    "# Task E: Random Forest"
   ]
  },
  {
   "cell_type": "code",
   "execution_count": 369,
   "metadata": {},
   "outputs": [],
   "source": [
    "trees=[200,500,700]\n",
    "depths=[300,500,600]\n",
    "tree_scores=[]        #initializing the trees and deapths to find the best combination from among them."
   ]
  },
  {
   "cell_type": "code",
   "execution_count": 370,
   "metadata": {},
   "outputs": [
    {
     "name": "stdout",
     "output_type": "stream",
     "text": [
      "[0.9251233453089803, 0.9273011678470142, 0.9288498403190969, 0.9294940073213953, 0.9281777590607868, 0.9288210514698338, 0.9288442308679553, 0.9284533997565614, 0.9292028855271519]\n"
     ]
    }
   ],
   "source": [
    "for es in trees :\n",
    "    for d in depths:\n",
    "        rfc=RandomForestClassifier(n_estimators=es,max_depth=d)\n",
    "        tscores = cross_val_score(rfc, X_train, y_train2, cv=10, scoring='f1_macro')\n",
    "        tree_scores.append(tscores.mean())\n",
    "print(tree_scores)"
   ]
  },
  {
   "cell_type": "code",
   "execution_count": 371,
   "metadata": {},
   "outputs": [
    {
     "name": "stdout",
     "output_type": "stream",
     "text": [
      "Max of list 0.9294940073213953\n"
     ]
    }
   ],
   "source": [
    "print('Max of list', max(tree_scores))"
   ]
  },
  {
   "cell_type": "code",
   "execution_count": 379,
   "metadata": {},
   "outputs": [
    {
     "data": {
      "text/plain": [
       "3"
      ]
     },
     "execution_count": 379,
     "metadata": {},
     "output_type": "execute_result"
    }
   ],
   "source": [
    "tree_scores.index(0.9294940073213953)"
   ]
  },
  {
   "cell_type": "code",
   "execution_count": null,
   "metadata": {},
   "outputs": [],
   "source": [
    "#500 tress with 300 max deapth"
   ]
  },
  {
   "cell_type": "code",
   "execution_count": 372,
   "metadata": {},
   "outputs": [],
   "source": [
    "lst2=[]\n",
    "for es in trees :\n",
    "    for d in depths:\n",
    "        lst2.append([])"
   ]
  },
  {
   "cell_type": "code",
   "execution_count": 373,
   "metadata": {},
   "outputs": [],
   "source": [
    "j=0\n",
    "for es in trees :\n",
    "    for d in depths:\n",
    "        lst2[j].append(es)\n",
    "        j=j+1"
   ]
  },
  {
   "cell_type": "code",
   "execution_count": 374,
   "metadata": {},
   "outputs": [],
   "source": [
    "j=0\n",
    "for es in trees :\n",
    "    for d in depths:\n",
    "        lst2[j].append(d)\n",
    "        j=j+1"
   ]
  },
  {
   "cell_type": "code",
   "execution_count": 375,
   "metadata": {},
   "outputs": [],
   "source": [
    "for h in range(9) :\n",
    "        lst2[h].append(tree_scores[h])"
   ]
  },
  {
   "cell_type": "code",
   "execution_count": 376,
   "metadata": {},
   "outputs": [],
   "source": [
    "xa=[]\n",
    "yb=[]\n",
    "zc=[]\n",
    "for i in range(9):\n",
    "    xa.append(lst2[i][0])\n",
    "    yb.append(lst2[i][1])\n",
    "    zc.append(lst2[i][2])"
   ]
  },
  {
   "cell_type": "code",
   "execution_count": 377,
   "metadata": {},
   "outputs": [
    {
     "data": {
      "text/plain": [
       "[[200, 300, 0.9251233453089803],\n",
       " [200, 500, 0.9273011678470142],\n",
       " [200, 600, 0.9288498403190969],\n",
       " [500, 300, 0.9294940073213953],\n",
       " [500, 500, 0.9281777590607868],\n",
       " [500, 600, 0.9288210514698338],\n",
       " [700, 300, 0.9288442308679553],\n",
       " [700, 500, 0.9284533997565614],\n",
       " [700, 600, 0.9292028855271519]]"
      ]
     },
     "execution_count": 377,
     "metadata": {},
     "output_type": "execute_result"
    }
   ],
   "source": [
    "lst2"
   ]
  },
  {
   "cell_type": "code",
   "execution_count": 378,
   "metadata": {},
   "outputs": [
    {
     "data": {
      "image/png": "[encoded data removed]",
      "text/plain": [
       "<Figure size 432x288 with 1 Axes>"
      ]
     },
     "metadata": {
      "needs_background": "light"
     },
     "output_type": "display_data"
    }
   ],
   "source": [
    "fig = plt.figure()\n",
    "ax = plt.axes(projection='3d')\n",
    "ax.plot_trisurf(xa,yb,zc)\n",
    "ax.set_title('Surface plot')\n",
    "ax.set_xlabel('Number of Trees')\n",
    "ax.set_ylabel('Deapth of each Tree')\n",
    "ax.set_zlabel('F-score')\n",
    "plt.show()"
   ]
  },
  {
   "cell_type": "code",
   "execution_count": 401,
   "metadata": {},
   "outputs": [
    {
     "data": {
      "text/plain": [
       "RandomForestClassifier(bootstrap=True, class_weight=None, criterion='gini',\n",
       "                       max_depth=300, max_features='auto', max_leaf_nodes=None,\n",
       "                       min_impurity_decrease=0.0, min_impurity_split=None,\n",
       "                       min_samples_leaf=1, min_samples_split=2,\n",
       "                       min_weight_fraction_leaf=0.0, n_estimators=500,\n",
       "                       n_jobs=None, oob_score=False, random_state=None,\n",
       "                       verbose=0, warm_start=False)"
      ]
     },
     "execution_count": 401,
     "metadata": {},
     "output_type": "execute_result"
    }
   ],
   "source": [
    "rfc2=RandomForestClassifier(n_estimators=500,max_depth=300,)\n",
    "rfc2.fit(X_train,y_train2)"
   ]
  },
  {
   "cell_type": "code",
   "execution_count": 402,
   "metadata": {},
   "outputs": [],
   "source": [
    "predrfc=rfc2.predict(X_test)"
   ]
  },
  {
   "cell_type": "code",
   "execution_count": 403,
   "metadata": {},
   "outputs": [
    {
     "data": {
      "text/plain": [
       "(2947,)"
      ]
     },
     "execution_count": 403,
     "metadata": {},
     "output_type": "execute_result"
    }
   ],
   "source": [
    "predrfc.shape"
   ]
  },
  {
   "cell_type": "code",
   "execution_count": 404,
   "metadata": {},
   "outputs": [
    {
     "data": {
      "text/plain": [
       "(2947,)"
      ]
     },
     "execution_count": 404,
     "metadata": {},
     "output_type": "execute_result"
    }
   ],
   "source": [
    "y_test2.shape"
   ]
  },
  {
   "cell_type": "code",
   "execution_count": 405,
   "metadata": {
    "scrolled": true
   },
   "outputs": [
    {
     "data": {
      "text/plain": [
       "array([[537,   0,   0,   0,   0,   0],\n",
       "       [  0, 443,  48,   0,   0,   0],\n",
       "       [  0,  33, 499,   0,   0,   0],\n",
       "       [  0,   0,   0, 481,   8,   7],\n",
       "       [  0,   0,   0,  20, 355,  45],\n",
       "       [  0,   0,   0,  33,   5, 433]])"
      ]
     },
     "execution_count": 405,
     "metadata": {},
     "output_type": "execute_result"
    }
   ],
   "source": [
    "confusion_matrix(y_test2, predrfc)"
   ]
  },
  {
   "cell_type": "code",
   "execution_count": 406,
   "metadata": {},
   "outputs": [
    {
     "data": {
      "text/plain": [
       "0.9322275365995241"
      ]
     },
     "execution_count": 406,
     "metadata": {},
     "output_type": "execute_result"
    }
   ],
   "source": [
    "f1_score(y_test2, predrfc,average='weighted')"
   ]
  },
  {
   "cell_type": "code",
   "execution_count": 407,
   "metadata": {},
   "outputs": [
    {
     "data": {
      "text/plain": [
       "0.9324737020699015"
      ]
     },
     "execution_count": 407,
     "metadata": {},
     "output_type": "execute_result"
    }
   ],
   "source": [
    "accuracy_score(predrfc, y_test2)"
   ]
  },
  {
   "cell_type": "markdown",
   "metadata": {},
   "source": [
    "# Task F: Discussion"
   ]
  },
  {
   "cell_type": "code",
   "execution_count": null,
   "metadata": {},
   "outputs": [],
   "source": [
    "#From among all the models Svc performed the best with highest Accuracy Score from among all of them with 95.5% Accuracy\n",
    "#Knn performed the worst with 90% of Acuuracy\n",
    "#We can tune the hyper-parameters to improve the accuracy to some extent."
   ]
  }
 ],
 "metadata": {
  "kernelspec": {
   "display_name": "Python 3",
   "language": "python",
   "name": "python3"
  },
  "language_info": {
   "codemirror_mode": {
    "name": "ipython",
    "version": 3
   },
   "file_extension": ".py",
   "mimetype": "text/x-python",
   "name": "python",
   "nbconvert_exporter": "python",
   "pygments_lexer": "ipython3",
   "version": "3.7.1"
  }
 },
 "nbformat": 4,
 "nbformat_minor": 2
}
